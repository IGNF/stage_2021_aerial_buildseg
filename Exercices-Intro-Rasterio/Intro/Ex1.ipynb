{
 "cells": [
  {
   "cell_type": "markdown",
   "id": "537950ae",
   "metadata": {},
   "source": [
    "## Exo 1"
   ]
  },
  {
   "cell_type": "markdown",
   "id": "9f8ac5d9",
   "metadata": {},
   "source": [
    "Passer d'un couple d'image RVB + IRC à un tenseur R,V,B,IR de même taille & compatible avec pytorch "
   ]
  },
  {
   "cell_type": "markdown",
   "id": "64636ddc",
   "metadata": {},
   "source": [
    "Etapes :\n",
    "\n",
    "- Lire les images, les extraire en tableau numpy, concaténer & les transformer en tenseur pytorch\n",
    "\n",
    "-\tIRC : composition colorée à partir des trois canaux infrarouge, rouge et  vert (https://en.wikipedia.org/wiki/False_color) avec la correspondance de visualisation infrarouge -> rouge, rouge -> vert, vert -> bleu.\n",
    "\n",
    "-\tUn point important c'est de bien comprendre comment les données sont structurées (images en channel * height * width contre tenseur en  taille Batch * height * width * channel par exemple).\n",
    "\n",
    "-\tPour la lecture d'image je te conseille d'utiliser la librairie rasterio (https://rasterio.readthedocs.io/en/latest/topics/reading.html)  Faire attention à l'option indexes de la méthode read\n",
    "\n",
    "-\tpas forcément utile pour ce point mais faire attention aux coordonnées/reférentiel associés à l'image (https://rasterio.readthedocs.io/en/latest/topics/georeferencing.html)\n",
    "\n",
    "- Prise en main des données géographiques python : https://github.com/patrickcgray/open-geo-tutorial \n",
    "\n",
    "- Code Similaires sur datasets challenege Inria Building dataset & Spacenet :\n",
    "https://medium.com/the-downlinq/object-detection-on-spacenet-5e691961d257\n"
   ]
  },
  {
   "cell_type": "markdown",
   "id": "ea2af4a4",
   "metadata": {},
   "source": [
    "### Import Libraries "
   ]
  },
  {
   "cell_type": "code",
   "execution_count": 1,
   "id": "39184552",
   "metadata": {},
   "outputs": [],
   "source": [
    "import rasterio\n",
    "import numpy as np \n",
    "import os \n",
    "import matplotlib.pyplot as plt \n",
    "import torch\n",
    "import torchvision\n",
    "import torchvision.transforms as transforms\n",
    "from rasterio.windows import Window"
   ]
  },
  {
   "cell_type": "code",
   "execution_count": 2,
   "id": "8b9c447c",
   "metadata": {},
   "outputs": [
    {
     "data": {
      "text/plain": [
       "['A1_RVB', 'A2_IRC', 'A3_MNS', 'A4_MNT', 'B1_RVBIH']"
      ]
     },
     "execution_count": 2,
     "metadata": {},
     "output_type": "execute_result"
    }
   ],
   "source": [
    "os.listdir('./IMAGES')"
   ]
  },
  {
   "cell_type": "code",
   "execution_count": 3,
   "id": "d561162c",
   "metadata": {},
   "outputs": [
    {
     "data": {
      "text/plain": [
       "['readme.txt',\n",
       " 'rvb.vrt',\n",
       " 'zone_1.tif',\n",
       " 'zone_2.tif',\n",
       " 'zone_3.tif',\n",
       " 'zone_4.tif',\n",
       " 'zone_5.tif']"
      ]
     },
     "execution_count": 3,
     "metadata": {},
     "output_type": "execute_result"
    }
   ],
   "source": [
    "os.listdir('./IMAGES/A1_RVB')"
   ]
  },
  {
   "cell_type": "code",
   "execution_count": 4,
   "id": "0361db36",
   "metadata": {},
   "outputs": [
    {
     "data": {
      "text/plain": [
       "['irc.vrt',\n",
       " 'readme.txt',\n",
       " 'zone_1.tif',\n",
       " 'zone_2.tif',\n",
       " 'zone_3.tif',\n",
       " 'zone_4.tif',\n",
       " 'zone_5.tif']"
      ]
     },
     "execution_count": 4,
     "metadata": {},
     "output_type": "execute_result"
    }
   ],
   "source": [
    "os.listdir('./IMAGES/A2_IRC')"
   ]
  },
  {
   "cell_type": "code",
   "execution_count": 5,
   "id": "910c423f",
   "metadata": {},
   "outputs": [
    {
     "data": {
      "text/plain": [
       "'3.2.2'"
      ]
     },
     "execution_count": 5,
     "metadata": {},
     "output_type": "execute_result"
    }
   ],
   "source": [
    "rasterio.gdal_version()"
   ]
  },
  {
   "cell_type": "code",
   "execution_count": 6,
   "id": "40028653",
   "metadata": {},
   "outputs": [
    {
     "name": "stdout",
     "output_type": "stream",
     "text": [
      "<open DatasetReader name='./IMAGES/A1_RVB/zone_1.tif' mode='r'>\n"
     ]
    }
   ],
   "source": [
    "with rasterio.open('./IMAGES/A1_RVB/zone_1.tif') as src:\n",
    "    print(src)"
   ]
  },
  {
   "cell_type": "markdown",
   "id": "aeea5b93",
   "metadata": {},
   "source": [
    "### Reading Datasets "
   ]
  },
  {
   "cell_type": "code",
   "execution_count": 7,
   "id": "be2b976e",
   "metadata": {},
   "outputs": [],
   "source": [
    "def read(file):\n",
    "    \"\"\"\n",
    "    Take as input a file and open the file with rasterio library\n",
    "    \n",
    "    Outputs: \n",
    "    - src.read(): numpy array of the image\n",
    "    - src.profile : metadata \n",
    "    \n",
    "    \"\"\"\n",
    "    with rasterio.open(file) as src:\n",
    "        # return numpy array & meta_data\n",
    "        return src.read(), src.profile"
   ]
  },
  {
   "cell_type": "code",
   "execution_count": 8,
   "id": "94e0dd51",
   "metadata": {},
   "outputs": [],
   "source": [
    "# Reading rvb\n",
    "src_rvb = rasterio.open('./IMAGES/A1_RVB/zone_1.tif') \n",
    "\n",
    "# reading IRC\n",
    "src_irc = rasterio.open('./IMAGES/A2_IRC/zone_1.tif') "
   ]
  },
  {
   "cell_type": "code",
   "execution_count": 9,
   "id": "3c899b3b",
   "metadata": {},
   "outputs": [
    {
     "data": {
      "text/plain": [
       "{'driver': 'GTiff', 'dtype': 'uint8', 'nodata': None, 'width': 30000, 'height': 20000, 'count': 3, 'crs': CRS.from_epsg(2154), 'transform': Affine(0.2, 0.0, 367000.0,\n",
       "       0.0, -0.2, 6405000.0), 'blockxsize': 512, 'blockysize': 512, 'tiled': True, 'compress': 'deflate', 'interleave': 'pixel'}"
      ]
     },
     "execution_count": 9,
     "metadata": {},
     "output_type": "execute_result"
    }
   ],
   "source": [
    "src_rvb.profile"
   ]
  },
  {
   "cell_type": "code",
   "execution_count": 10,
   "id": "7a459f21",
   "metadata": {},
   "outputs": [
    {
     "data": {
      "text/plain": [
       "Affine(0.2, 0.0, 367000.0,\n",
       "       0.0, -0.2, 6405000.0)"
      ]
     },
     "execution_count": 10,
     "metadata": {},
     "output_type": "execute_result"
    }
   ],
   "source": [
    "# Geo-Trasnform \n",
    "src_rvb.profile['transform']"
   ]
  },
  {
   "cell_type": "markdown",
   "id": "764b0eed",
   "metadata": {},
   "source": [
    "#### Extract to numpy array"
   ]
  },
  {
   "cell_type": "code",
   "execution_count": 11,
   "id": "c9c4e8ca",
   "metadata": {},
   "outputs": [],
   "source": [
    "# Extract a smaller window 256 row x 512 columns \n",
    "array_rvb = src_rvb.read(1, window=Window(0, 0, 512, 256))\n",
    "array_irc = src_irc.read(1, window=Window(0, 0, 512, 256))"
   ]
  },
  {
   "cell_type": "code",
   "execution_count": 12,
   "id": "1c74f387",
   "metadata": {},
   "outputs": [
    {
     "name": "stdout",
     "output_type": "stream",
     "text": [
      "[[ 69  60  56 ... 128  95  66]\n",
      " [ 61  61  62 ...  49  49  57]\n",
      " [ 51  51  56 ...  63  69  82]\n",
      " ...\n",
      " [ 52  52  55 ...  59  54  54]\n",
      " [ 52  52  54 ...  53  59  59]\n",
      " [ 52  55  54 ...  59  53  53]]\n"
     ]
    }
   ],
   "source": [
    "print(array_rvb)"
   ]
  },
  {
   "cell_type": "code",
   "execution_count": 13,
   "id": "d8d0999b",
   "metadata": {},
   "outputs": [
    {
     "name": "stdout",
     "output_type": "stream",
     "text": [
      "<class 'numpy.ndarray'>\n"
     ]
    }
   ],
   "source": [
    "print(type(array_rvb))"
   ]
  },
  {
   "cell_type": "markdown",
   "id": "e31b2742",
   "metadata": {},
   "source": [
    "Height, Width "
   ]
  },
  {
   "cell_type": "code",
   "execution_count": 14,
   "id": "26734e5d",
   "metadata": {},
   "outputs": [
    {
     "data": {
      "text/plain": [
       "(256, 512)"
      ]
     },
     "execution_count": 14,
     "metadata": {},
     "output_type": "execute_result"
    }
   ],
   "source": [
    "array_rvb.shape"
   ]
  },
  {
   "cell_type": "code",
   "execution_count": 15,
   "id": "e3a6bcc7",
   "metadata": {},
   "outputs": [
    {
     "data": {
      "text/plain": [
       "(256, 512)"
      ]
     },
     "execution_count": 15,
     "metadata": {},
     "output_type": "execute_result"
    }
   ],
   "source": [
    "array_irc.shape"
   ]
  },
  {
   "cell_type": "markdown",
   "id": "6efe1cb9",
   "metadata": {},
   "source": [
    "### Visualize Image"
   ]
  },
  {
   "cell_type": "code",
   "execution_count": 16,
   "id": "3e7cd9c8",
   "metadata": {},
   "outputs": [],
   "source": [
    "from rasterio.plot import show"
   ]
  },
  {
   "cell_type": "code",
   "execution_count": 17,
   "id": "bae377c0",
   "metadata": {},
   "outputs": [],
   "source": [
    "#show(src_rvb)"
   ]
  },
  {
   "cell_type": "code",
   "execution_count": 18,
   "id": "450bf9e9",
   "metadata": {},
   "outputs": [],
   "source": [
    "#plt.imshow(src_rvb.read(),cmap='pink')\n",
    "#plt.show()"
   ]
  },
  {
   "cell_type": "markdown",
   "id": "a11411bf",
   "metadata": {},
   "source": [
    "We can look at the 3 axes (bands, rows, columns)"
   ]
  },
  {
   "cell_type": "code",
   "execution_count": 19,
   "id": "ec1c00df",
   "metadata": {},
   "outputs": [
    {
     "data": {
      "text/plain": [
       "(3, 20000, 30000)"
      ]
     },
     "execution_count": 19,
     "metadata": {},
     "output_type": "execute_result"
    }
   ],
   "source": [
    "src_rvb.read().shape"
   ]
  },
  {
   "cell_type": "code",
   "execution_count": 20,
   "id": "c918cc49",
   "metadata": {},
   "outputs": [
    {
     "data": {
      "text/plain": [
       "array([[ 69,  60,  56, ..., 169, 167, 167],\n",
       "       [ 61,  61,  62, ..., 171, 169, 170],\n",
       "       [ 51,  51,  56, ..., 171, 169, 167],\n",
       "       ...,\n",
       "       [ 57,  60,  58, ...,  39,  39,  38],\n",
       "       [ 55,  50,  47, ...,  39,  44,  46],\n",
       "       [ 49,  47,  43, ...,  39,  50,  51]], dtype=uint8)"
      ]
     },
     "execution_count": 20,
     "metadata": {},
     "output_type": "execute_result"
    }
   ],
   "source": [
    "src_rvb.read()[0]"
   ]
  },
  {
   "cell_type": "code",
   "execution_count": 21,
   "id": "7a1aa253",
   "metadata": {},
   "outputs": [
    {
     "data": {
      "text/plain": [
       "(20000, 30000)"
      ]
     },
     "execution_count": 21,
     "metadata": {},
     "output_type": "execute_result"
    }
   ],
   "source": [
    "src_rvb.read()[0].shape"
   ]
  },
  {
   "cell_type": "code",
   "execution_count": 22,
   "id": "8803d95e",
   "metadata": {},
   "outputs": [
    {
     "data": {
      "text/plain": [
       "(3, 20000, 30000)"
      ]
     },
     "execution_count": 22,
     "metadata": {},
     "output_type": "execute_result"
    }
   ],
   "source": [
    "src_irc.read().shape"
   ]
  },
  {
   "cell_type": "code",
   "execution_count": 23,
   "id": "491ea9d9",
   "metadata": {},
   "outputs": [],
   "source": [
    "from rasterio.plot import show # import the show function which allows us to display the image\n",
    "\n",
    "#print(\"Image dimensions: \", src_rvb.read())\n",
    "#show(array_rvb, transform=src_rvb.transform, cmap='gray')"
   ]
  },
  {
   "cell_type": "markdown",
   "id": "e9c0434f",
   "metadata": {},
   "source": [
    "#### Concatenate & Transform to Pytorch "
   ]
  },
  {
   "cell_type": "code",
   "execution_count": 28,
   "id": "c00264c2",
   "metadata": {},
   "outputs": [],
   "source": [
    "rvb_array = src_rvb.read(window=Window(0, 0, 512, 256))\n",
    "irc_array = src_irc.read(window=Window(0, 0, 512, 256))"
   ]
  },
  {
   "cell_type": "code",
   "execution_count": 29,
   "id": "de5208cf",
   "metadata": {},
   "outputs": [
    {
     "data": {
      "text/plain": [
       "(3, 256, 512)"
      ]
     },
     "execution_count": 29,
     "metadata": {},
     "output_type": "execute_result"
    }
   ],
   "source": [
    "src_irc.read(window=Window(0, 0, 512, 256)).shape"
   ]
  },
  {
   "cell_type": "code",
   "execution_count": 30,
   "id": "d5658c61",
   "metadata": {},
   "outputs": [
    {
     "data": {
      "text/plain": [
       "(3, 256, 512)"
      ]
     },
     "execution_count": 30,
     "metadata": {},
     "output_type": "execute_result"
    }
   ],
   "source": [
    "src_rvb.read(window=Window(0, 0, 512, 256)).shape"
   ]
  },
  {
   "cell_type": "code",
   "execution_count": 31,
   "id": "e9a8a5e3",
   "metadata": {},
   "outputs": [
    {
     "data": {
      "text/plain": [
       "array([[ 69,  60,  56, ..., 128,  95,  66],\n",
       "       [ 61,  61,  62, ...,  49,  49,  57],\n",
       "       [ 51,  51,  56, ...,  63,  69,  82],\n",
       "       ...,\n",
       "       [ 52,  52,  55, ...,  59,  54,  54],\n",
       "       [ 52,  52,  54, ...,  53,  59,  59],\n",
       "       [ 52,  55,  54, ...,  59,  53,  53]], dtype=uint8)"
      ]
     },
     "execution_count": 31,
     "metadata": {},
     "output_type": "execute_result"
    }
   ],
   "source": [
    "rvb_array[0]"
   ]
  },
  {
   "cell_type": "code",
   "execution_count": 34,
   "id": "0a2ddd67",
   "metadata": {},
   "outputs": [
    {
     "data": {
      "text/plain": [
       "(256, 512)"
      ]
     },
     "execution_count": 34,
     "metadata": {},
     "output_type": "execute_result"
    }
   ],
   "source": [
    "rvb_array[0].shape"
   ]
  },
  {
   "cell_type": "code",
   "execution_count": 35,
   "id": "5cac63c4",
   "metadata": {},
   "outputs": [
    {
     "data": {
      "text/plain": [
       "(256, 512)"
      ]
     },
     "execution_count": 35,
     "metadata": {},
     "output_type": "execute_result"
    }
   ],
   "source": [
    "irc_array[0].shape"
   ]
  },
  {
   "cell_type": "code",
   "execution_count": 38,
   "id": "86f10cd5",
   "metadata": {},
   "outputs": [
    {
     "data": {
      "text/plain": [
       "(3, 256, 512)"
      ]
     },
     "execution_count": 38,
     "metadata": {},
     "output_type": "execute_result"
    }
   ],
   "source": [
    "irc_array.shape"
   ]
  },
  {
   "cell_type": "markdown",
   "id": "1e07dad9",
   "metadata": {},
   "source": [
    "#### Concatenate RGB & IRC array"
   ]
  },
  {
   "cell_type": "markdown",
   "id": "6b4bfff6",
   "metadata": {},
   "source": [
    "RGB -> Band (Rouge Vert Bleu)\n",
    "\n",
    "IRC -> Band (Infrarouge Rouge Vert)"
   ]
  },
  {
   "cell_type": "markdown",
   "id": "35560c3d",
   "metadata": {},
   "source": [
    "Try to concatenate RGV & IRC"
   ]
  },
  {
   "cell_type": "code",
   "execution_count": 48,
   "id": "07bc239b",
   "metadata": {},
   "outputs": [],
   "source": [
    "concat_array = np.append(rvb_array,np.array([irc_array[0]]), axis = 0)"
   ]
  },
  {
   "cell_type": "code",
   "execution_count": 49,
   "id": "62defa43",
   "metadata": {},
   "outputs": [
    {
     "data": {
      "text/plain": [
       "(4, 256, 512)"
      ]
     },
     "execution_count": 49,
     "metadata": {},
     "output_type": "execute_result"
    }
   ],
   "source": [
    "concat_array.shape"
   ]
  },
  {
   "cell_type": "markdown",
   "id": "d83e668c",
   "metadata": {},
   "source": [
    "### Transform to tensor "
   ]
  },
  {
   "cell_type": "code",
   "execution_count": 51,
   "id": "d2712adb",
   "metadata": {},
   "outputs": [],
   "source": [
    "tensor_rvb_irc = torch.from_numpy(concat_array)"
   ]
  },
  {
   "cell_type": "code",
   "execution_count": 52,
   "id": "0d67b45f",
   "metadata": {},
   "outputs": [
    {
     "name": "stdout",
     "output_type": "stream",
     "text": [
      "tensor([[[ 69,  60,  56,  ..., 128,  95,  66],\n",
      "         [ 61,  61,  62,  ...,  49,  49,  57],\n",
      "         [ 51,  51,  56,  ...,  63,  69,  82],\n",
      "         ...,\n",
      "         [ 52,  52,  55,  ...,  59,  54,  54],\n",
      "         [ 52,  52,  54,  ...,  53,  59,  59],\n",
      "         [ 52,  55,  54,  ...,  59,  53,  53]],\n",
      "\n",
      "        [[ 95,  81,  75,  ..., 162, 133,  90],\n",
      "         [ 89,  83,  81,  ...,  57,  56,  78],\n",
      "         [ 67,  67,  71,  ...,  79,  65,  93],\n",
      "         ...,\n",
      "         [ 70,  69,  69,  ...,  71,  71,  71],\n",
      "         [ 64,  69,  71,  ...,  76,  75,  79],\n",
      "         [ 69,  71,  76,  ...,  76,  75,  78]],\n",
      "\n",
      "        [[ 97,  88,  80,  ..., 178, 134,  86],\n",
      "         [ 90,  86,  88,  ...,  57,  54,  83],\n",
      "         [ 72,  86,  81,  ...,  71,  74, 115],\n",
      "         ...,\n",
      "         [ 77,  76,  83,  ...,  81,  85,  85],\n",
      "         [ 82,  83,  82,  ...,  86,  85,  84],\n",
      "         [ 82,  76,  77,  ...,  81,  81,  84]],\n",
      "\n",
      "        [[ 17,  18,  18,  ...,  20,  19,  19],\n",
      "         [ 16,  17,  17,  ...,  18,  18,  18],\n",
      "         [ 16,  16,  17,  ...,  17,  18,  19],\n",
      "         ...,\n",
      "         [ 18,  16,  16,  ...,  16,  16,  18],\n",
      "         [ 18,  18,  17,  ...,  17,  16,  17],\n",
      "         [ 18,  18,  19,  ...,  16,  16,  17]]], dtype=torch.uint8)\n"
     ]
    }
   ],
   "source": [
    "print(tensor_rvb_irc)"
   ]
  },
  {
   "cell_type": "code",
   "execution_count": 53,
   "id": "271858c0",
   "metadata": {},
   "outputs": [
    {
     "data": {
      "text/plain": [
       "torch.Size([4, 256, 512])"
      ]
     },
     "execution_count": 53,
     "metadata": {},
     "output_type": "execute_result"
    }
   ],
   "source": [
    "tensor_rvb_irc.shape"
   ]
  },
  {
   "cell_type": "code",
   "execution_count": null,
   "id": "3ad7ecfc",
   "metadata": {},
   "outputs": [],
   "source": []
  }
 ],
 "metadata": {
  "kernelspec": {
   "display_name": "Python 3",
   "language": "python",
   "name": "python3"
  },
  "language_info": {
   "codemirror_mode": {
    "name": "ipython",
    "version": 3
   },
   "file_extension": ".py",
   "mimetype": "text/x-python",
   "name": "python",
   "nbconvert_exporter": "python",
   "pygments_lexer": "ipython3",
   "version": "3.7.10"
  }
 },
 "nbformat": 4,
 "nbformat_minor": 5
}
