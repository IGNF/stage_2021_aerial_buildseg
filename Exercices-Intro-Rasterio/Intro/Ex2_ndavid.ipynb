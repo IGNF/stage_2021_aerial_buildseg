{
 "cells": [
  {
   "cell_type": "markdown",
   "id": "97a56aa6",
   "metadata": {},
   "source": [
    "## Ex2"
   ]
  },
  {
   "cell_type": "markdown",
   "id": "b9fad298",
   "metadata": {},
   "source": [
    "•\tPasser d'un couple image + fichier vecteur bâtiment à une image masque de bâtiment avec les pixels bâtiment ayant une valeur 1 et les autres 0."
   ]
  },
  {
   "cell_type": "markdown",
   "id": "4174e036",
   "metadata": {},
   "source": [
    "Etapes : \n",
    "\n",
    "-\tPour la lecture du fichier vecteur. regarder soit la librairie fiona (https://fiona.readthedocs.io/en/latest/manual.html) lecture fichier en mode stream et sous forme de json (avec information geo) ou geopandas (https://geopandas.org/) qui lit en fichier sous forme de dataframe pandas avec une colonne geometry. Geopandas peut être plus simple si tu connais déjà la librairies python pandas.\n",
    "\n",
    "-\tPour la rasterization il faut regarder du côté de la méthode rasterio.features.rasterize de la librairie rasterio\n"
   ]
  },
  {
   "cell_type": "code",
   "execution_count": 2,
   "id": "2c7d793f",
   "metadata": {},
   "outputs": [],
   "source": [
    "import os\n",
    "import os.path\n",
    "from pathlib import Path\n",
    "import numpy as np \n",
    "\n",
    "import geopandas as gpd\n",
    "import rasterio\n",
    "from rasterio.plot import reshape_as_image\n",
    "import rasterio.mask\n",
    "from rasterio.features import rasterize\n",
    "from shapely.geometry import mapping, Point, Polygon\n",
    "from shapely.ops import cascaded_union\n",
    "\n",
    "import matplotlib.pyplot as plt"
   ]
  },
  {
   "cell_type": "markdown",
   "id": "3a847c88",
   "metadata": {},
   "source": [
    "First define global/config parameters"
   ]
  },
  {
   "cell_type": "code",
   "execution_count": 4,
   "id": "b1df7cc0",
   "metadata": {},
   "outputs": [
    {
     "data": {
      "text/plain": [
       "['.DS_Store',\n",
       " 'readme.txt',\n",
       " 'rvb.vrt',\n",
       " 'zone_1.tif',\n",
       " 'zone_2.tif',\n",
       " 'zone_3.tif',\n",
       " 'zone_4.tif',\n",
       " 'zone_5.tif']"
      ]
     },
     "execution_count": 4,
     "metadata": {},
     "output_type": "execute_result"
    }
   ],
   "source": [
    "root_data_dir = \"/media/DATA/DATASETS_AI/OCSGE_URBAN/33_2018\"  # TODO change to your own data dir\n",
    "os.listdir(os.path.join(root_data_dir,\"IMAGES\",\"A1_RVB\"))"
   ]
  },
  {
   "cell_type": "markdown",
   "id": "5504339b",
   "metadata": {},
   "source": [
    "### data structure\n",
    "Data_dir contains two subdirectory :\n",
    " * \"IMAGES\" with images data \n",
    " * \"MASKS\" other with mask (ground truth/label) data. \n",
    "\n",
    "Theres is 5 regions of interset in IMAGES dir, call zone_1 to zone_5. \n",
    "Each zone has mutiples images in dedicated subdir. Images of the same zone have the same name but different path/subdir :\n",
    " * RVB images are in \"A1_RVB\" subdir\n",
    " * IRC images are in \"A2_IRC\" subdir"
   ]
  },
  {
   "cell_type": "code",
   "execution_count": 5,
   "id": "a4a32b6b",
   "metadata": {},
   "outputs": [],
   "source": [
    "img_path = os.path.join(root_data_dir,\"IMAGES\",\"A1_RVB\", \"zone_1.tif\")\n",
    "buildings_labels_path = os.path.join(root_data_dir,\"MASKS\",\"mask_bati_33_2018.shp\")\n",
    "\n",
    "out_raster = os.path.join(root_data_dir, \"OUTPUT\", \"new_1.tif\")\n",
    "# make output directory if not existing\n",
    "Path(os.path.join(root_data_dir, \"OUTPUT\")).mkdir(parents=True, exist_ok=True)"
   ]
  },
  {
   "cell_type": "markdown",
   "id": "b50b4986",
   "metadata": {},
   "source": [
    "### Read files & get geometry features"
   ]
  },
  {
   "cell_type": "code",
   "execution_count": 6,
   "id": "43b07a7e",
   "metadata": {},
   "outputs": [],
   "source": [
    "# read shapefile with geopandas \n",
    "buildings = gpd.read_file(buildings_labels_path)"
   ]
  },
  {
   "cell_type": "code",
   "execution_count": 7,
   "id": "f70ee2a8",
   "metadata": {},
   "outputs": [
    {
     "data": {
      "image/png": "[encoded data removed]",
      "text/plain": [
       "<Figure size 432x288 with 1 Axes>"
      ]
     },
     "metadata": {
      "needs_background": "light"
     },
     "output_type": "display_data"
    }
   ],
   "source": [
    "buildings.plot()\n",
    "plt.show()"
   ]
  },
  {
   "cell_type": "markdown",
   "id": "547b8f62",
   "metadata": {},
   "source": [
    "we see that the shapefile contains labels for all of the five region of interest"
   ]
  },
  {
   "cell_type": "markdown",
   "id": "d64473a4",
   "metadata": {},
   "source": [
    "### Read image & get metadata\n",
    "First we read the metadata of the image that must serve as template for the rasterization. It defined the zone (coordinate) and resolution of the rasterization. "
   ]
  },
  {
   "cell_type": "code",
   "execution_count": 8,
   "id": "01bffdd4",
   "metadata": {},
   "outputs": [],
   "source": [
    "# open raster file \n",
    "template_rds = rasterio.open(img_path) # rds raster dataset"
   ]
  },
  {
   "cell_type": "markdown",
   "id": "8408bfd2",
   "metadata": {},
   "source": [
    "as we are only interested in metadata we copy them and close the input image."
   ]
  },
  {
   "cell_type": "code",
   "execution_count": 9,
   "id": "ed4c70de",
   "metadata": {},
   "outputs": [],
   "source": [
    "# copy metadata \n",
    "meta = template_rds.meta.copy()\n",
    "template_rds.close()"
   ]
  },
  {
   "cell_type": "code",
   "execution_count": 10,
   "id": "4534fcb3",
   "metadata": {},
   "outputs": [
    {
     "name": "stdout",
     "output_type": "stream",
     "text": [
      "{'driver': 'GTiff', 'dtype': 'uint8', 'nodata': None, 'width': 30000, 'height': 20000, 'count': 3, 'crs': CRS.from_epsg(2154), 'transform': Affine(0.2, 0.0, 367000.0,\n",
      "       0.0, -0.2, 6405000.0)}\n"
     ]
    }
   ],
   "source": [
    "print(meta)"
   ]
  },
  {
   "cell_type": "markdown",
   "id": "de766da8",
   "metadata": {},
   "source": [
    "### Initialize output  image \n",
    "the output image must :\n",
    "  * have the same spatial dimension and resolution than the input image\n",
    "  * have only 1 channel and not three (rvb image). \n",
    "\n",
    "So we initialized output_image with the metadata of input image with update channel/count number "
   ]
  },
  {
   "cell_type": "code",
   "execution_count": 11,
   "id": "33b5192e",
   "metadata": {},
   "outputs": [],
   "source": [
    "# update the number of band to 1 for output image \n",
    "meta.update(count=1)"
   ]
  },
  {
   "cell_type": "code",
   "execution_count": 12,
   "id": "c21390d9",
   "metadata": {},
   "outputs": [],
   "source": [
    "# Initialize a new tif file \n",
    "out_rds = rasterio.open(out_raster,'w+',**meta) "
   ]
  },
  {
   "cell_type": "markdown",
   "id": "9145bcd3",
   "metadata": {},
   "source": [
    "### Create numpy array with rasterio"
   ]
  },
  {
   "cell_type": "code",
   "execution_count": 13,
   "id": "f334071f",
   "metadata": {},
   "outputs": [
    {
     "name": "stdout",
     "output_type": "stream",
     "text": [
      "(20000, 30000)\n"
     ]
    }
   ],
   "source": [
    "# initialize output numpy array when reading output image to have the good numpy array shape.\n",
    "out_arr = out_rds.read(1)\n",
    "print(out_arr.shape)"
   ]
  },
  {
   "cell_type": "markdown",
   "id": "2c5f79a6",
   "metadata": {},
   "source": [
    "for rasterization we have to define a rasterization value for all geometries and a default value for pixel outside of building geometries.\n",
    "\n",
    "* the geometrie and \"burning value\" are passed as a list of tuple (geometrie, burn_value)\n",
    "* the default value is the fill argument of the rasterio.feature.rasterize function"
   ]
  },
  {
   "cell_type": "code",
   "execution_count": 14,
   "id": "b1eb0913",
   "metadata": {},
   "outputs": [],
   "source": [
    "# get the shape \n",
    "shapes = [(geom, 1) for geom in buildings.geometry]\n",
    "# Create a mask \n",
    "burned = rasterize(shapes=shapes, fill=0, out=out_arr, transform=out_rds.transform)"
   ]
  },
  {
   "cell_type": "markdown",
   "id": "19e818d0",
   "metadata": {},
   "source": [
    "##### Some test to check / debug the rasterization."
   ]
  },
  {
   "cell_type": "markdown",
   "id": "bd03545f",
   "metadata": {},
   "source": [
    "first check if some values have \"1\" as value."
   ]
  },
  {
   "cell_type": "code",
   "execution_count": 15,
   "id": "2a68b2a3",
   "metadata": {},
   "outputs": [
    {
     "name": "stdout",
     "output_type": "stream",
     "text": [
      "burned max value : 1\n",
      "burned sum/nb building pixel : 51733372\n",
      "building ratio : 8.6%\n",
      "uint8\n"
     ]
    }
   ],
   "source": [
    "print(f\"burned max value : {burned.max()}\")\n",
    "print(f\"burned sum/nb building pixel : {burned.sum()}\")\n",
    "building_ratio = burned.sum()*1.0/(out_arr.shape[0]*out_arr.shape[1])\n",
    "print(f\"building ratio : {building_ratio*100:.1f}%\")\n",
    "print(burned.dtype)"
   ]
  },
  {
   "cell_type": "markdown",
   "id": "d2e916ca",
   "metadata": {},
   "source": [
    "if something wrong, check the coordinate system of building and image, get image bounding box and filter/count the number of building inside this bounding box."
   ]
  },
  {
   "cell_type": "code",
   "execution_count": 16,
   "id": "c9e852be",
   "metadata": {},
   "outputs": [
    {
     "name": "stdout",
     "output_type": "stream",
     "text": [
      "BoundingBox(left=367000.0, bottom=6401000.0, right=373000.0, top=6405000.0)\n",
      "builing inside image: 65589\n"
     ]
    }
   ],
   "source": [
    "img_envelop = out_rds.bounds\n",
    "print(img_envelop)\n",
    "xmin, ymin, xmax, ymax = list(img_envelop)\n",
    "img_buildings = buildings.cx[xmin:xmax, ymin:ymax]\n",
    "print(f\"builing inside image: {img_buildings.size}\")"
   ]
  },
  {
   "cell_type": "markdown",
   "id": "1674a99d",
   "metadata": {},
   "source": [
    "### Save result\n",
    "* write burned array to output dataset\n",
    "* write file by closing raster dataset (alternative using \"with\")"
   ]
  },
  {
   "cell_type": "code",
   "execution_count": 17,
   "id": "ce69c76e",
   "metadata": {},
   "outputs": [],
   "source": [
    "# Write the mask \n",
    "out_rds.write_band(1, burned)\n",
    "out_rds.close()"
   ]
  },
  {
   "cell_type": "markdown",
   "id": "eb9854f1",
   "metadata": {},
   "source": [
    "check result by reading and display output image"
   ]
  },
  {
   "cell_type": "code",
   "execution_count": 18,
   "id": "c0903968",
   "metadata": {},
   "outputs": [
    {
     "data": {
      "image/png": "[encoded data removed]",
      "text/plain": [
       "<Figure size 432x288 with 1 Axes>"
      ]
     },
     "metadata": {
      "needs_background": "light"
     },
     "output_type": "display_data"
    }
   ],
   "source": [
    "with rasterio.open(out_raster,'r',**meta) as out_ds :\n",
    "   rasterio.plot.show(out_ds)"
   ]
  },
  {
   "cell_type": "markdown",
   "id": "e536b791",
   "metadata": {},
   "source": [
    "## Other Method"
   ]
  },
  {
   "cell_type": "code",
   "execution_count": null,
   "id": "c61b267d",
   "metadata": {},
   "outputs": [],
   "source": [
    "src_rvb = rasterio.open(\"./IMAGES/A1_RVB/zone_1.tif\")"
   ]
  },
  {
   "cell_type": "markdown",
   "id": "f4e7b8e7",
   "metadata": {},
   "source": [
    "### Reading dataset masks"
   ]
  },
  {
   "cell_type": "code",
   "execution_count": null,
   "id": "5e077bed",
   "metadata": {},
   "outputs": [],
   "source": [
    "src_rvb.read_masks(1)"
   ]
  },
  {
   "cell_type": "code",
   "execution_count": null,
   "id": "81cd40f1",
   "metadata": {},
   "outputs": [],
   "source": [
    "metadata = src_rvb.meta"
   ]
  },
  {
   "cell_type": "code",
   "execution_count": null,
   "id": "bf3274a4",
   "metadata": {},
   "outputs": [],
   "source": [
    "raster_img = src_rvb.read()"
   ]
  },
  {
   "cell_type": "code",
   "execution_count": null,
   "id": "cdbe3440",
   "metadata": {},
   "outputs": [],
   "source": [
    "metadata"
   ]
  },
  {
   "cell_type": "code",
   "execution_count": null,
   "id": "91f9c70b",
   "metadata": {},
   "outputs": [],
   "source": [
    "# reshaping rasters\n",
    "raster_img = reshape_as_image(raster_img)"
   ]
  },
  {
   "cell_type": "markdown",
   "id": "b6d99388",
   "metadata": {},
   "source": [
    "### Visualize Image"
   ]
  },
  {
   "cell_type": "code",
   "execution_count": null,
   "id": "5b3dcb39",
   "metadata": {},
   "outputs": [],
   "source": [
    "plt.figure(figsize=(15,15))\n",
    "plt.imshow(raster_img)"
   ]
  },
  {
   "cell_type": "markdown",
   "id": "8ce1bc88",
   "metadata": {},
   "source": [
    "### Loading ShapeFile with Geopandas "
   ]
  },
  {
   "cell_type": "code",
   "execution_count": null,
   "id": "1c265f52",
   "metadata": {},
   "outputs": [],
   "source": [
    "gdf = gpd.read_file('./MASKS/mask_bati_33_2018.shp')"
   ]
  },
  {
   "cell_type": "code",
   "execution_count": null,
   "id": "6e0aae9c",
   "metadata": {},
   "outputs": [],
   "source": [
    "gdf.head()"
   ]
  },
  {
   "cell_type": "code",
   "execution_count": null,
   "id": "7d69b569",
   "metadata": {},
   "outputs": [],
   "source": [
    "print(\"CRS Raster: {}, CRS Vector {}\".format(gdf.crs, src_rvb.crs))"
   ]
  },
  {
   "cell_type": "markdown",
   "id": "444b9f90",
   "metadata": {},
   "source": [
    "### Mask with Rasterio"
   ]
  },
  {
   "cell_type": "code",
   "execution_count": null,
   "id": "8e8e3125",
   "metadata": {},
   "outputs": [],
   "source": [
    "gdf.crs = {'init':'epsg:2154'}\n",
    "gdf = gdf.to_crs({'init':metadata['crs']['init']})"
   ]
  },
  {
   "cell_type": "code",
   "execution_count": null,
   "id": "2b08f85e",
   "metadata": {},
   "outputs": [],
   "source": [
    "# Generate a polygon\n",
    "gdf.geometry"
   ]
  },
  {
   "cell_type": "code",
   "execution_count": null,
   "id": "5278c750",
   "metadata": {},
   "outputs": [],
   "source": [
    "# cascased union : return a representation of union geometric objects \n",
    "cascaded_union(gdf.geometry[0])"
   ]
  },
  {
   "cell_type": "code",
   "execution_count": null,
   "id": "210efb10",
   "metadata": {},
   "outputs": [],
   "source": [
    "gdf.columns"
   ]
  },
  {
   "cell_type": "code",
   "execution_count": null,
   "id": "5c160bef",
   "metadata": {},
   "outputs": [],
   "source": [
    "gdf.shape"
   ]
  },
  {
   "cell_type": "code",
   "execution_count": null,
   "id": "f15f47af",
   "metadata": {},
   "outputs": [],
   "source": [
    "gdf.geometry"
   ]
  },
  {
   "cell_type": "code",
   "execution_count": null,
   "id": "551f7b32",
   "metadata": {},
   "outputs": [],
   "source": [
    "# Checking Coordinates \n",
    "gdf.geometry[0].exterior.coords.xy"
   ]
  },
  {
   "cell_type": "code",
   "execution_count": null,
   "id": "06976f70",
   "metadata": {},
   "outputs": [],
   "source": [
    "# Cut fields from raster \n",
    "failed = []\n",
    "for num, row in gdf.iterrows():\n",
    "    try:\n",
    "        masked_image, out_transform = rasterio.mask.mask(src_rvb, [mapping(row['geometry'])], crop=True, nodata=0)\n",
    "    except:\n",
    "        failed.append(num)\n",
    "print(\"Rasterio failed to mask {} files\".format(len(failed)))"
   ]
  },
  {
   "cell_type": "code",
   "execution_count": null,
   "id": "127c4499",
   "metadata": {},
   "outputs": [],
   "source": [
    "metadata['crs']"
   ]
  },
  {
   "cell_type": "code",
   "execution_count": null,
   "id": "f9336cce",
   "metadata": {},
   "outputs": [],
   "source": [
    "## Converting GeoDataframe to raster CRS \n",
    "# let's remove rows without geometry\n",
    "gdf = gdf[gdf.geometry.notnull()]\n",
    "\n",
    "# assigning crs\n",
    "gdf.crs = {'init' :'epsg:2154'}\n",
    "\n",
    "#transforming polygons to the raster crs\n",
    "gdf = gdf.to_crs({'init' : metadata['crs']['init']})"
   ]
  },
  {
   "cell_type": "code",
   "execution_count": null,
   "id": "9e998b17",
   "metadata": {},
   "outputs": [],
   "source": [
    "outfolder = \"article\"\n",
    "os.makedirs(outfolder, exist_ok=True)\n",
    "failed = []\n",
    "for num, row in gdf.iterrows():\n",
    "    try:\n",
    "        masked_image, out_transform = rasterio.mask.mask(src_rvb, [mapping(row['geometry'])], crop=True, nodata=0)\n",
    "        img_image = reshape_as_image(masked_image)\n",
    "        img_path = os.path.join(outfolder, str(row['FID']) + '.png')\n",
    "        #img_image = cv2.cvtColor(img_image, cv2.COLOR_RGB2BGR)\n",
    "        #cv2.imwrite(img_path, img_image)\n",
    "    except Exception as e:\n",
    "#         print(e)\n",
    "        failed.append(num)\n",
    "print(\"Rasterio failed to mask {} files\".format(len(failed)))"
   ]
  },
  {
   "cell_type": "code",
   "execution_count": null,
   "id": "e8d92c49",
   "metadata": {},
   "outputs": [],
   "source": [
    "# rasterize works with polygons that are in image coordinate system\n",
    "\n",
    "def poly_from_utm(polygon, transform):\n",
    "    poly_pts = []\n",
    "    \n",
    "    # make a polygon from multipolygon\n",
    "    poly = cascaded_union(polygon)\n",
    "    for i in np.array(poly.exterior.coords):\n",
    "        # transfrom polygon to image crs, using raster meta\n",
    "        poly_pts.append(~transform * tuple(i))\n",
    "        \n",
    "    # make a shapely Polygon object\n",
    "    new_poly = Polygon(poly_pts)\n",
    "    return new_poly\n"
   ]
  },
  {
   "cell_type": "code",
   "execution_count": null,
   "id": "cbcb18d2",
   "metadata": {},
   "outputs": [],
   "source": [
    "src_rvb.meta['transform'][:]"
   ]
  },
  {
   "cell_type": "code",
   "execution_count": null,
   "id": "00763604",
   "metadata": {},
   "outputs": [],
   "source": [
    "gdf.geometry[0].exterior.coords[0]"
   ]
  },
  {
   "cell_type": "code",
   "execution_count": null,
   "id": "145bc322",
   "metadata": {},
   "outputs": [],
   "source": [
    "# creating binary mask for field/not_filed segmentation.\n",
    "\"\"\"\n",
    "poly_shp = []\n",
    "im_size = (src_rvb.meta['height'], src_rvb.meta['width'])\n",
    "for num, row in gdf.iterrows():\n",
    "    if row['geometry'].geom_type == 'Polygon':\n",
    "        print(row['geometry'])\n",
    "        poly = poly_from_utm(row['geometry'], src_rvb.meta['transform'][:])\n",
    "        poly_shp.append(poly)\n",
    "    else:\n",
    "        for p in row['geometry']:\n",
    "            poly = poly_from_utm(p, src_rvb.meta['transform'])\n",
    "            poly_shp.append(poly)\n",
    "\n",
    "mask = rasterize(shapes=poly_shp,\n",
    "                 out_shape=im_size)\n",
    "\n",
    "# plotting the mask\n",
    "plt.figure(figsize=(15,15))\n",
    "plt.imshow(mask)\n",
    "\"\"\""
   ]
  },
  {
   "cell_type": "code",
   "execution_count": null,
   "id": "042dc945",
   "metadata": {},
   "outputs": [],
   "source": []
  },
  {
   "cell_type": "markdown",
   "id": "c71d95c4",
   "metadata": {},
   "source": [
    "Geometry Objects Attributes:\n",
    "\n",
    "- area\n",
    "\n",
    "- bounds\n",
    "\n",
    "- length\n",
    "\n",
    "- minimum_clearance\n",
    "\n",
    "- geom_type\n",
    "\n",
    "- distance\n"
   ]
  },
  {
   "cell_type": "code",
   "execution_count": null,
   "id": "ed215984",
   "metadata": {},
   "outputs": [],
   "source": [
    "gdf.geometry[0].geom_type"
   ]
  },
  {
   "cell_type": "code",
   "execution_count": null,
   "id": "27fdd20e",
   "metadata": {},
   "outputs": [],
   "source": [
    "type(gdf.geometry[0])"
   ]
  },
  {
   "cell_type": "code",
   "execution_count": null,
   "id": "78bd8982",
   "metadata": {},
   "outputs": [],
   "source": [
    "# area \n",
    "gdf.geometry[0].area"
   ]
  },
  {
   "cell_type": "code",
   "execution_count": null,
   "id": "9321afe6",
   "metadata": {},
   "outputs": [],
   "source": [
    "# bounds : minx, miny, maxx, maxy\n",
    "gdf.geometry[0].bounds"
   ]
  },
  {
   "cell_type": "code",
   "execution_count": null,
   "id": "92bae886",
   "metadata": {},
   "outputs": [],
   "source": []
  }
 ],
 "metadata": {
  "kernelspec": {
   "display_name": "Python 3",
   "language": "python",
   "name": "python3"
  },
  "language_info": {
   "codemirror_mode": {
    "name": "ipython",
    "version": 3
   },
   "file_extension": ".py",
   "mimetype": "text/x-python",
   "name": "python",
   "nbconvert_exporter": "python",
   "pygments_lexer": "ipython3",
   "version": "3.8.10"
  }
 },
 "nbformat": 4,
 "nbformat_minor": 5
}
