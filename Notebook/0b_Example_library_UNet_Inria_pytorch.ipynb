{
 "cells": [
  {
   "cell_type": "markdown",
   "id": "2e28deb4",
   "metadata": {},
   "source": [
    "# Import de Librairies pour entraîner UNet"
   ]
  },
  {
   "cell_type": "markdown",
   "id": "715332e3",
   "metadata": {},
   "source": [
    "**Objectif:** le but de ce notebook est de montrer comment importer les différentes librairies python pour entraîner le modèle UNet. Ce notebook est une version plus 'soft' du notebook précédent \"Example_all_steps_UNet_Inria_pytorch\"."
   ]
  },
  {
   "cell_type": "markdown",
   "id": "fcd1eb01",
   "metadata": {},
   "source": [
    "### Root Variables "
   ]
  },
  {
   "cell_type": "code",
   "execution_count": 1,
   "id": "646ecc08",
   "metadata": {},
   "outputs": [],
   "source": [
    "import os  "
   ]
  },
  {
   "cell_type": "code",
   "execution_count": 2,
   "id": "25b1ef40",
   "metadata": {},
   "outputs": [],
   "source": [
    "root = '/home/ign.fr/ttea/Code_IGN/AerialImageDataset'\n",
    "train_dir = os.path.join(root,'train/images')\n",
    "gt_dir = os.path.join(root,'train/gt')\n",
    "test_dir = os.path.join(root,'test/images')"
   ]
  },
  {
   "cell_type": "code",
   "execution_count": 3,
   "id": "8ecea8c4",
   "metadata": {},
   "outputs": [],
   "source": [
    "import sys"
   ]
  },
  {
   "cell_type": "code",
   "execution_count": 4,
   "id": "82a87586",
   "metadata": {},
   "outputs": [],
   "source": [
    "sys.path.insert(0, '/home/ign.fr/ttea/stage_segmentation_2021/Code')"
   ]
  },
  {
   "cell_type": "code",
   "execution_count": 5,
   "id": "ca8f15fb",
   "metadata": {},
   "outputs": [],
   "source": [
    "from dataloader.dataloader import InriaDataset\n",
    "from model.model import UNet\n",
    "from train import train, eval, train_full"
   ]
  },
  {
   "cell_type": "markdown",
   "id": "0d1f5ed9",
   "metadata": {},
   "source": [
    "### Import Libraries "
   ]
  },
  {
   "cell_type": "code",
   "execution_count": 6,
   "id": "af58ec31",
   "metadata": {},
   "outputs": [],
   "source": [
    "import numpy as np\n",
    "import torch\n",
    "import torch.nn.functional as F\n",
    "import torch.nn as nn\n",
    "import pandas as pd "
   ]
  },
  {
   "cell_type": "code",
   "execution_count": 7,
   "id": "0ae5f07f",
   "metadata": {},
   "outputs": [],
   "source": [
    "var= pd.read_json('variables.json')"
   ]
  },
  {
   "cell_type": "markdown",
   "id": "5d1f4c69",
   "metadata": {},
   "source": [
    "## Dataset"
   ]
  },
  {
   "cell_type": "code",
   "execution_count": 8,
   "id": "a4f418c4",
   "metadata": {},
   "outputs": [],
   "source": [
    "tile_size = (512,512)\n",
    "train_dataset = InriaDataset(var['variables']['root'],tile_size,'train',None,False,1)\n",
    "val_dataset = InriaDataset(var['variables']['root'],tile_size,'validation',None,False,1)"
   ]
  },
  {
   "cell_type": "markdown",
   "id": "f0bce585",
   "metadata": {},
   "source": [
    "## U-Net Model"
   ]
  },
  {
   "cell_type": "markdown",
   "id": "bc7d9c6f",
   "metadata": {},
   "source": [
    "![title](../img/Unet.png)"
   ]
  },
  {
   "cell_type": "markdown",
   "id": "dc78436c",
   "metadata": {},
   "source": [
    "### Arguments & Hyperparamètres "
   ]
  },
  {
   "cell_type": "code",
   "execution_count": 10,
   "id": "bdf6d7b2",
   "metadata": {},
   "outputs": [],
   "source": [
    "hparam = {\n",
    "    'lr':0.0001,\n",
    "    'n_epoch':5,\n",
    "    'n_epoch_test':int(5),\n",
    "    'n_class':1,\n",
    "    'batch_size':8,\n",
    "    'n_channel':3,\n",
    "    'conv_width':[16,32,64,128,256,128,64,32,16],\n",
    "}"
   ]
  },
  {
   "cell_type": "code",
   "execution_count": 15,
   "id": "d9427048",
   "metadata": {},
   "outputs": [],
   "source": [
    "tile_size = (512,512)\n",
    "\n",
    "weights = [0.5, 1.0]\n",
    "class_weights = torch.FloatTensor(weights).cuda()\n",
    "\n",
    "args = {\n",
    "    'nn_loss':nn.BCEWithLogitsLoss(reduction=\"mean\"),\n",
    "    #'nn_loss':nn.CrossEntropyLoss(weight = class_weights,reduction=\"mean\"),\n",
    "    #'nn_loss':BinaryDiceLoss,\n",
    "     'loss_name': 'BinaryCrossentropy',\n",
    "    # 'loss_name': 'Crossentropy',\n",
    "    #'loss_name':'BinaryDiceLoss',\n",
    "    'threshold':0.5,\n",
    "    'cuda':1,\n",
    "    'class_names':['None','Batiment'],\n",
    "    'save_model':False,\n",
    "    'save_model_name':\"unet_test_8_1.pth\",\n",
    "    'train_dataset':InriaDataset(var['variables']['root'],tile_size,'train',None,False,1),\n",
    "    'val_dataset':InriaDataset(var['variables']['root'],tile_size,'validation',None,False,1),\n",
    "}"
   ]
  },
  {
   "cell_type": "code",
   "execution_count": 16,
   "id": "97a334b0",
   "metadata": {},
   "outputs": [],
   "source": [
    "model = UNet(hparam['n_channel'], hparam['conv_width'], hparam['n_class'], cuda=args['cuda'])"
   ]
  },
  {
   "cell_type": "markdown",
   "id": "fa39f097",
   "metadata": {},
   "source": [
    "### Entraînement du modèle UNet "
   ]
  },
  {
   "cell_type": "code",
   "execution_count": 17,
   "id": "9b90a3dd",
   "metadata": {},
   "outputs": [
    {
     "name": "stdout",
     "output_type": "stream",
     "text": [
      "Total number of parameters: 1941105\n"
     ]
    },
    {
     "data": {
      "application/vnd.jupyter.widget-view+json": {
       "model_id": "283128ca0d7148469ca17f09971f7d9e",
       "version_major": 2,
       "version_minor": 0
      },
      "text/plain": [
       "  0%|                                                                                                         …"
      ]
     },
     "metadata": {},
     "output_type": "display_data"
    },
    {
     "name": "stdout",
     "output_type": "stream",
     "text": [
      "None : 86.85%  |  Batiment : 29.60%\n",
      "Epoch   0 -> Train Overall Accuracy: 87.54% Train mIoU : 58.23% Train Loss: 0.3281\n",
      "None : 86.85%  |  Batiment : 29.60%\n"
     ]
    },
    {
     "data": {
      "application/vnd.jupyter.widget-view+json": {
       "model_id": "6725e3a035874bed8b6759e2abfa14ef",
       "version_major": 2,
       "version_minor": 0
      },
      "text/plain": [
       "  0%|                                                                                                         …"
      ]
     },
     "metadata": {},
     "output_type": "display_data"
    },
    {
     "name": "stdout",
     "output_type": "stream",
     "text": [
      "None : 90.25%  |  Batiment : 50.46%\n",
      "Epoch   1 -> Train Overall Accuracy: 91.13% Train mIoU : 70.36% Train Loss: 0.2161\n",
      "None : 90.25%  |  Batiment : 50.46%\n"
     ]
    },
    {
     "data": {
      "application/vnd.jupyter.widget-view+json": {
       "model_id": "d61fb56e04ea467d93d8ab03a03260fd",
       "version_major": 2,
       "version_minor": 0
      },
      "text/plain": [
       "  0%|                                                                                                         …"
      ]
     },
     "metadata": {},
     "output_type": "display_data"
    },
    {
     "name": "stdout",
     "output_type": "stream",
     "text": [
      "None : 91.38%  |  Batiment : 56.56%\n",
      "Epoch   2 -> Train Overall Accuracy: 92.25% Train mIoU : 73.97% Train Loss: 0.1893\n",
      "None : 91.38%  |  Batiment : 56.56%\n"
     ]
    },
    {
     "data": {
      "application/vnd.jupyter.widget-view+json": {
       "model_id": "ba787a08962c4371b395b88357eeff4d",
       "version_major": 2,
       "version_minor": 0
      },
      "text/plain": [
       "  0%|                                                                                                         …"
      ]
     },
     "metadata": {},
     "output_type": "display_data"
    },
    {
     "name": "stdout",
     "output_type": "stream",
     "text": [
      "None : 92.07%  |  Batiment : 60.23%\n",
      "Epoch   3 -> Train Overall Accuracy: 92.92% Train mIoU : 76.15% Train Loss: 0.1734\n",
      "None : 92.07%  |  Batiment : 60.23%\n"
     ]
    },
    {
     "data": {
      "application/vnd.jupyter.widget-view+json": {
       "model_id": "ae537ba6d14f4c66aa615722781904ad",
       "version_major": 2,
       "version_minor": 0
      },
      "text/plain": [
       "  0%|                                                                                                         …"
      ]
     },
     "metadata": {},
     "output_type": "display_data"
    },
    {
     "name": "stdout",
     "output_type": "stream",
     "text": [
      "None : 92.53%  |  Batiment : 62.66%\n",
      "Epoch   4 -> Train Overall Accuracy: 93.36% Train mIoU : 77.59% Train Loss: 0.1629\n",
      "None : 92.53%  |  Batiment : 62.66%\n"
     ]
    },
    {
     "data": {
      "application/vnd.jupyter.widget-view+json": {
       "model_id": "42fd1481a1ba4c4a913309d470f4a84a",
       "version_major": 2,
       "version_minor": 0
      },
      "text/plain": [
       "  0%|                                                                                                         …"
      ]
     },
     "metadata": {},
     "output_type": "display_data"
    },
    {
     "name": "stdout",
     "output_type": "stream",
     "text": [
      "None : 91.35%  |  Batiment : 48.77%\n",
      "Test Overall Accuracy: 92.01% Test mIoU : 70.06%  Test Loss: 0.1764\n",
      "None : 91.35%  |  Batiment : 48.77%\n"
     ]
    }
   ],
   "source": [
    "trained_model,  metrics_train, metrics_test = train_full(args, model,hparam['lr'],hparam['n_epoch'],\n",
    "                                    hparam['n_epoch_test'],hparam['batch_size'],hparam['n_class'],\n",
    "                                    hparam['n_channel'])"
   ]
  },
  {
   "cell_type": "code",
   "execution_count": null,
   "id": "93cff66f",
   "metadata": {},
   "outputs": [],
   "source": []
  },
  {
   "cell_type": "code",
   "execution_count": null,
   "id": "2d4541d4",
   "metadata": {},
   "outputs": [],
   "source": []
  }
 ],
 "metadata": {
  "kernelspec": {
   "display_name": "Python 3",
   "language": "python",
   "name": "python3"
  },
  "language_info": {
   "codemirror_mode": {
    "name": "ipython",
    "version": 3
   },
   "file_extension": ".py",
   "mimetype": "text/x-python",
   "name": "python",
   "nbconvert_exporter": "python",
   "pygments_lexer": "ipython3",
   "version": "3.8.10"
  }
 },
 "nbformat": 4,
 "nbformat_minor": 5
}
