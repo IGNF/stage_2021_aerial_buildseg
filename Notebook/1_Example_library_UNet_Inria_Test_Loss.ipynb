{
 "cells": [
  {
   "cell_type": "markdown",
   "id": "2e28deb4",
   "metadata": {},
   "source": [
    "# Testing differents losses on Inria Dataset "
   ]
  },
  {
   "cell_type": "markdown",
   "id": "2a348500",
   "metadata": {},
   "source": [
    "**Objectif:** le but de ce notebook est d'entraîner le modèle UNet et d'expliquer et tester les différentes loss sur le jeu de données d'Inria. "
   ]
  },
  {
   "cell_type": "markdown",
   "id": "fcd1eb01",
   "metadata": {},
   "source": [
    "### Root Variables \n",
    "\n",
    "Les root variables sont les variables contenant les chemins vers le jeu de donnée Inria. \n",
    "\n",
    "* **train_dir** contient les images aériennes de bâtiments pour l'entraînement.\n",
    "* **gt_dir** contient les masques des bâtiments pour l'entraînement. \n",
    "* **test_dir** contient les images aériennes de bâtiments pour l'inférence. "
   ]
  },
  {
   "cell_type": "code",
   "execution_count": 1,
   "id": "5827a5f1",
   "metadata": {},
   "outputs": [],
   "source": [
    "import os "
   ]
  },
  {
   "cell_type": "code",
   "execution_count": 2,
   "id": "25b1ef40",
   "metadata": {},
   "outputs": [],
   "source": [
    "root = '/home/ign.fr/ttea/Code_IGN/AerialImageDataset'\n",
    "train_dir = os.path.join(root,'train/images')\n",
    "gt_dir = os.path.join(root,'train/gt')\n",
    "test_dir = os.path.join(root,'test/images')"
   ]
  },
  {
   "cell_type": "code",
   "execution_count": 3,
   "id": "646ecc08",
   "metadata": {},
   "outputs": [],
   "source": [
    "import sys "
   ]
  },
  {
   "cell_type": "code",
   "execution_count": 4,
   "id": "82a87586",
   "metadata": {},
   "outputs": [],
   "source": [
    "sys.path.insert(0, '/home/ign.fr/ttea/stage_segmentation_2021/Code')"
   ]
  },
  {
   "cell_type": "code",
   "execution_count": 5,
   "id": "e4cee7e2",
   "metadata": {},
   "outputs": [],
   "source": [
    "from dataloader.dataloader import InriaDataset\n",
    "from model.model import UNet\n",
    "from train import train, eval, train_full"
   ]
  },
  {
   "cell_type": "markdown",
   "id": "0d1f5ed9",
   "metadata": {},
   "source": [
    "### Import Libraries "
   ]
  },
  {
   "cell_type": "code",
   "execution_count": 6,
   "id": "af58ec31",
   "metadata": {},
   "outputs": [],
   "source": [
    "import numpy as np\n",
    "%matplotlib inline\n",
    "import matplotlib.pyplot as plt\n",
    "import json\n",
    "\n",
    "import argparse\n",
    "import pandas as pd \n",
    "\n",
    "import torch\n",
    "import torch.nn.functional as F\n",
    "import torch.nn as nn"
   ]
  },
  {
   "cell_type": "code",
   "execution_count": 7,
   "id": "b019400c",
   "metadata": {},
   "outputs": [],
   "source": [
    "var= pd.read_json('variables.json')"
   ]
  },
  {
   "cell_type": "markdown",
   "id": "f0bce585",
   "metadata": {},
   "source": [
    "## U-Net Model"
   ]
  },
  {
   "cell_type": "markdown",
   "id": "5d98546f",
   "metadata": {},
   "source": [
    "Voici l'architecture du modèle UNet qu'on va utiliser avec la loss Crossentropy pour entraîner notre modèle."
   ]
  },
  {
   "cell_type": "markdown",
   "id": "bc7d9c6f",
   "metadata": {},
   "source": [
    "![title](../img/Unet.png)"
   ]
  },
  {
   "cell_type": "markdown",
   "id": "f1f5822b",
   "metadata": {},
   "source": [
    "## Different Loss"
   ]
  },
  {
   "cell_type": "markdown",
   "id": "053a2501",
   "metadata": {},
   "source": [
    "### Binary Crossentropy Loss "
   ]
  },
  {
   "cell_type": "markdown",
   "id": "915747e7",
   "metadata": {},
   "source": [
    "![title](../img/BCE_formula.png)"
   ]
  },
  {
   "cell_type": "markdown",
   "id": "9c6a9992",
   "metadata": {},
   "source": [
    "Nous sommes dans le cas d'une classification binaire. \n",
    " \n",
    "* **${y_i}$ :** vérité terrain \n",
    "* **$p({y_i})$ :** prédiction\n",
    "\n",
    "**2 Cas :** \n",
    "* Si $y = 0$, le premier terme sera égale à 0, on calculera seulement $(1-y) * log({1 - \\hat{y}})$ , comme $(1-y) = 1$ on aura juste $log({1 - \\hat{y}})$.\n",
    "\n",
    "* Si $y = 1$, le second terme sera égale à 0 et on calculera le premier terme. "
   ]
  },
  {
   "cell_type": "markdown",
   "id": "e1f5c2bf",
   "metadata": {},
   "source": [
    "Binary Crossentropy Loss prend en entrée 2 arguments : \n",
    "\n",
    "La prédiction et la target doivent être de la même taille. \n",
    "    \n",
    "- Prédiction, Float Tensor de taille (Nombre_batch, 1, Width, Height)\n",
    "\n",
    "- Target, Float Tensor de taille (Nombre_batch, 1, Width, Height)\n",
    "\n",
    "On a ici 1, car on est dans le cas d'une seule classe. \n",
    "\n",
    "Retourne : un Scalaire, si l'opération de réduction n'est pas précisé, cela va retourner la même taille que la target.  \n",
    "\n"
   ]
  },
  {
   "cell_type": "markdown",
   "id": "00904822",
   "metadata": {},
   "source": [
    "### Crossentropy Loss "
   ]
  },
  {
   "cell_type": "markdown",
   "id": "224bba7b",
   "metadata": {},
   "source": [
    "https://medium.com/data-science-bootcamp/understand-cross-entropy-loss-in-minutes-9fb263caee9a"
   ]
  },
  {
   "cell_type": "markdown",
   "id": "7e97c285",
   "metadata": {},
   "source": [
    "![title](../img/crossentropy.png)"
   ]
  },
  {
   "cell_type": "markdown",
   "id": "541b6217",
   "metadata": {},
   "source": [
    "On cherche à mesurer la similarité entre la prédiction & la vérité terrain. \n",
    "\n",
    "La crossentropy va nous permettre de mesurer à quel point la fonction softmax est performante. "
   ]
  },
  {
   "cell_type": "markdown",
   "id": "6adbc958",
   "metadata": {},
   "source": [
    "**Etapes :**\n",
    "\n",
    "1) Softmax prend le log en première entrée (car des valeurs très négatives)\n",
    "\n",
    "2) on multiplie par la vérité terrain\n",
    "\n",
    "3) On le fait pour chaque entrée \n",
    "\n",
    "4) On somme toutes les loss \n",
    "\n",
    "5) On multiplie par -1 pour avoir la loss positive "
   ]
  },
  {
   "cell_type": "markdown",
   "id": "283c8e7e",
   "metadata": {},
   "source": [
    "**${y_i}$ :** vérité terrain \n",
    "\n",
    "**$\\hat{y}$ :** prédiction\n",
    "\n",
    "**$\\frac{1}{N}$ :** on cherche à calculer la moyenne"
   ]
  },
  {
   "cell_type": "markdown",
   "id": "0d4969dd",
   "metadata": {},
   "source": [
    "**Crossentropy Loss prend en entrée 2 arguments :** \n",
    "    \n",
    "- **Prédiction**, Long Tensor de taille (Nombre_batch, Nombre de classe, Width, Height)\n",
    "\n",
    "- **Target**, Long Tensor de taille (Nombre_batch, Nombre de classe, Width, Height)\n",
    "\n",
    "**Retourne :** un Scalaire, si l'opération de réduction n'est pas précisé, cela va retourner la même taille que la target.  "
   ]
  },
  {
   "cell_type": "markdown",
   "id": "3acd84af",
   "metadata": {},
   "source": [
    "### Limitation de la Crossentropy \n",
    "\n"
   ]
  },
  {
   "cell_type": "markdown",
   "id": "c0539e3e",
   "metadata": {},
   "source": [
    "Lors du calcul de la crossentropy, on calcule la loss en moyennant la loss de chaque pixel et chaque loss de des pixels est calculée discrètement, sans même savoir si les pixels adjacents sont des frontières ou non. Ainsi, les bords des pixels prédits ne sont pas très précis et ce n'est donc pas assez précis pour une prédiction d'image. "
   ]
  },
  {
   "cell_type": "markdown",
   "id": "533cedf9",
   "metadata": {},
   "source": [
    "### Dice Loss "
   ]
  },
  {
   "cell_type": "markdown",
   "id": "93f6c77f",
   "metadata": {},
   "source": [
    "![title](../img/dice_coefficient.png)"
   ]
  },
  {
   "cell_type": "markdown",
   "id": "20b73576",
   "metadata": {},
   "source": [
    "On retrouve l'équation du coefficient Dice, dans lequel pi & gi représentes les pairs correspondants à la valeur des pixels de prédictions et de la vérité terrain. Lors de la détection des frontières, les valeurs de pi & gi sont 0 ou 1 (1 si le pixel est une frontière, 0 sinon). \n",
    "\n",
    "Le numérateur représente la somme des pixels frontaliers correctement prédits car la somme n'augmente que lorsque pi et gi correspondent (tous deux de valeur 1).\n",
    "\n",
    "Le dénominateur représente la somme des pixels frontaliers totaux de la prédiction et de la vérité terrain."
   ]
  },
  {
   "cell_type": "markdown",
   "id": "8bf82c26",
   "metadata": {},
   "source": [
    "![title](../img/dice_coefficient_set.png)"
   ]
  },
  {
   "cell_type": "markdown",
   "id": "1f8077c2",
   "metadata": {},
   "source": [
    "Une autre façon de le voir, c'est de considérer le coefficient Dice comme l'intersection entre 2 ensembles. Par exemple, Si les ensembles A & B s'intersectent parfaitement, le coefficient Dice sera égale à 1 (valeur maximale). \n",
    "\n",
    "Sinon, lorsque la valeur du coefficient de Dice décroit à 0, cela signifie que l'intersection entre l'ensemble A & B est nulle. \n",
    "\n",
    "La valeur du coefficient de Dice est comprise entre 0 & 1. Plus elle est grande, mieux elle est. Ainsi, nous calculons l'inverse, 1 - coefficient de Dice afin de maximiser l'intersection entre les 2 ensembles. Donc de minimiser la loss. "
   ]
  },
  {
   "cell_type": "markdown",
   "id": "1f27caf6",
   "metadata": {},
   "source": [
    "https://towardsdatascience.com/metrics-to-evaluate-your-semantic-segmentation-model-6bcb99639aa2\n",
    "\n",
    "https://medium.com/ai-salon/understanding-dice-loss-for-crisp-boundary-detection-bb30c2e5f62b\n",
    "\n"
   ]
  },
  {
   "cell_type": "markdown",
   "id": "4ab09f64",
   "metadata": {},
   "source": [
    "### Implementation Dice Loss"
   ]
  },
  {
   "cell_type": "markdown",
   "id": "329f8680",
   "metadata": {},
   "source": [
    "Code source: https://github.com/hubutui/DiceLoss-PyTorch/blob/master/loss.py"
   ]
  },
  {
   "cell_type": "code",
   "execution_count": 8,
   "id": "143a0503",
   "metadata": {},
   "outputs": [],
   "source": [
    "def BinaryDiceLoss(predict, target):\n",
    "    \"\"\"\n",
    "    predict : prediction -> Float Tensor (nb_batch,width, height)\n",
    "    target : ground truth -> Float Tensor (nb_batch, width, height)\n",
    "    \n",
    "    Returns: Binary Dice loss -> Float Tensor \n",
    "    \"\"\"\n",
    "    \n",
    "    smooth = 1\n",
    "    \n",
    "    predict = predict.contiguous().view(predict.shape[0], -1)\n",
    "    target = target.contiguous().view(target.shape[0], -1)\n",
    "\n",
    "    num = torch.sum(torch.mul(predict, target), dim=1) + smooth\n",
    "    den = torch.sum(predict.pow(2) + target.pow(2), dim=1) + smooth\n",
    "\n",
    "    dice = 2*num / den\n",
    "    \n",
    "    loss = 1 - dice\n",
    "    \n",
    "    loss = loss.mean() # reduction by mean \n",
    "    return loss "
   ]
  },
  {
   "cell_type": "markdown",
   "id": "5a13e0ca",
   "metadata": {},
   "source": [
    "### Dice Loss combine with Crossentropy"
   ]
  },
  {
   "cell_type": "markdown",
   "id": "b8cc31ec",
   "metadata": {},
   "source": [
    "La dice loss ayant une faible convergence lorsqu'elle est utilisée seule, nous allons donc combiner la dice loss et la crossentropy loss pour obtenir une meilleure prédiction."
   ]
  },
  {
   "cell_type": "code",
   "execution_count": 9,
   "id": "b811996d",
   "metadata": {},
   "outputs": [],
   "source": [
    "def BCEDiceLoss(predict,target):\n",
    "    \"\"\"\n",
    "    predict : prediction -> Float Tensor (nb_batch,width, height)\n",
    "    target : ground truth -> Float Tensor (nb_batch, width, height)\n",
    "    \n",
    "    Returns: Binary Dice loss -> Float Tensor \n",
    "    \"\"\"\n",
    "    BCE = nn.BCEWithLogitsLoss(reduction=\"mean\")\n",
    "    BCE_loss = BCE(predict,torch.unsqueeze(target.float(),1))\n",
    "    dice_loss = BinaryDiceLoss(predict,target.float())\n",
    "    \n",
    "    return BCE_loss + dice_loss "
   ]
  },
  {
   "cell_type": "markdown",
   "id": "3ee0c52f",
   "metadata": {},
   "source": [
    "### Arguments & Hyperparameters "
   ]
  },
  {
   "cell_type": "code",
   "execution_count": 10,
   "id": "ae75dbe8",
   "metadata": {},
   "outputs": [],
   "source": [
    "hparam = {\n",
    "    'lr':0.0001,\n",
    "    'n_epoch':5,\n",
    "    'n_epoch_test':int(5),\n",
    "    'n_class':1,\n",
    "    'batch_size':8,\n",
    "    'n_channel':3,\n",
    "    'conv_width':[16,32,64,128,256,128,64,32,16],\n",
    "}"
   ]
  },
  {
   "cell_type": "code",
   "execution_count": 13,
   "id": "f49b3ccd",
   "metadata": {},
   "outputs": [],
   "source": [
    "tile_size = (256,256)\n",
    "\n",
    "weights = [0.5, 1.0]\n",
    "class_weights = torch.FloatTensor(weights).cuda()\n",
    "\n",
    "args = {\n",
    "    'nn_loss':nn.BCEWithLogitsLoss(reduction=\"mean\"),\n",
    "    #'nn_loss':nn.CrossEntropyLoss(weight = class_weights,reduction=\"mean\"),\n",
    "    #'nn_loss':BinaryDiceLoss,\n",
    "    #'nn_loss':BCEDiceLoss,\n",
    "    \n",
    "    'loss_name': 'BinaryCrossentropy',\n",
    "    #'loss_name': 'Crossentropy',\n",
    "    #'loss_name':'BinaryDiceLoss',\n",
    "    #'loss_name': 'BCEDiceLoss',\n",
    "    \n",
    "    'threshold':0.5,\n",
    "    'cuda':1,\n",
    "    'class_names':['None','Batiment'],\n",
    "    'save_model':False,\n",
    "    'save_model_name':\"unet_test2_8_1.pth\",\n",
    "    'train_dataset':InriaDataset(var['variables']['root'],tile_size,'train',None,False,1),\n",
    "    'val_dataset':InriaDataset(var['variables']['root'],tile_size,'validation',None,False,1),\n",
    "}"
   ]
  },
  {
   "cell_type": "markdown",
   "id": "fa39f097",
   "metadata": {},
   "source": [
    "### Training Model with Full Args "
   ]
  },
  {
   "cell_type": "code",
   "execution_count": 14,
   "id": "2a4e72c4",
   "metadata": {},
   "outputs": [
    {
     "name": "stdout",
     "output_type": "stream",
     "text": [
      "Total number of parameters: 1941105\n"
     ]
    },
    {
     "data": {
      "application/vnd.jupyter.widget-view+json": {
       "model_id": "05ba71156d2b47e4a07365a15e674248",
       "version_major": 2,
       "version_minor": 0
      },
      "text/plain": [
       "  0%|                                                                                                         …"
      ]
     },
     "metadata": {},
     "output_type": "display_data"
    },
    {
     "name": "stdout",
     "output_type": "stream",
     "text": [
      "None : 88.72%  |  Batiment : 42.00%\n",
      "Epoch   0 -> Train Overall Accuracy: 89.57% Train mIoU : 65.36% Train Loss: 0.2554\n",
      "None : 88.72%  |  Batiment : 42.00%\n"
     ]
    },
    {
     "data": {
      "application/vnd.jupyter.widget-view+json": {
       "model_id": "ff20a1ebfac54ee48f56812fbd1c74de",
       "version_major": 2,
       "version_minor": 0
      },
      "text/plain": [
       "  0%|                                                                                                         …"
      ]
     },
     "metadata": {},
     "output_type": "display_data"
    },
    {
     "name": "stdout",
     "output_type": "stream",
     "text": [
      "None : 91.96%  |  Batiment : 59.74%\n",
      "Epoch   1 -> Train Overall Accuracy: 92.82% Train mIoU : 75.85% Train Loss: 0.1761\n",
      "None : 91.96%  |  Batiment : 59.74%\n"
     ]
    },
    {
     "data": {
      "application/vnd.jupyter.widget-view+json": {
       "model_id": "b7c152c8758c4c5c8730696f9296bb7d",
       "version_major": 2,
       "version_minor": 0
      },
      "text/plain": [
       "  0%|                                                                                                         …"
      ]
     },
     "metadata": {},
     "output_type": "display_data"
    },
    {
     "name": "stdout",
     "output_type": "stream",
     "text": [
      "None : 92.84%  |  Batiment : 64.21%\n",
      "Epoch   2 -> Train Overall Accuracy: 93.65% Train mIoU : 78.52% Train Loss: 0.1570\n",
      "None : 92.84%  |  Batiment : 64.21%\n"
     ]
    },
    {
     "data": {
      "application/vnd.jupyter.widget-view+json": {
       "model_id": "fbd1d0f06d864e6f8377c87e8d10c10e",
       "version_major": 2,
       "version_minor": 0
      },
      "text/plain": [
       "  0%|                                                                                                         …"
      ]
     },
     "metadata": {},
     "output_type": "display_data"
    },
    {
     "name": "stdout",
     "output_type": "stream",
     "text": [
      "None : 93.33%  |  Batiment : 66.70%\n",
      "Epoch   3 -> Train Overall Accuracy: 94.11% Train mIoU : 80.01% Train Loss: 0.1457\n",
      "None : 93.33%  |  Batiment : 66.70%\n"
     ]
    },
    {
     "data": {
      "application/vnd.jupyter.widget-view+json": {
       "model_id": "65c47e3b0f614db087869b82a28e8bdd",
       "version_major": 2,
       "version_minor": 0
      },
      "text/plain": [
       "  0%|                                                                                                         …"
      ]
     },
     "metadata": {},
     "output_type": "display_data"
    },
    {
     "name": "stdout",
     "output_type": "stream",
     "text": [
      "None : 93.74%  |  Batiment : 68.75%\n",
      "Epoch   4 -> Train Overall Accuracy: 94.49% Train mIoU : 81.24% Train Loss: 0.1368\n",
      "None : 93.74%  |  Batiment : 68.75%\n"
     ]
    },
    {
     "data": {
      "application/vnd.jupyter.widget-view+json": {
       "model_id": "e2f1bc7dd3c64e1085f75fb4651e9b34",
       "version_major": 2,
       "version_minor": 0
      },
      "text/plain": [
       "  0%|                                                                                                         …"
      ]
     },
     "metadata": {},
     "output_type": "display_data"
    },
    {
     "name": "stdout",
     "output_type": "stream",
     "text": [
      "None : 93.87%  |  Batiment : 67.23%\n",
      "Test Overall Accuracy: 94.55% Test mIoU : 80.55%  Test Loss: 0.1385\n",
      "None : 93.87%  |  Batiment : 67.23%\n"
     ]
    }
   ],
   "source": [
    "model = UNet(hparam['n_channel'], hparam['conv_width'], hparam['n_class'], cuda=args['cuda'])\n",
    "trained_model, metrics_train, metrics_test = train_full(args, model,hparam['lr'],hparam['n_epoch'],\n",
    "                                    hparam['n_epoch_test'],hparam['batch_size'],hparam['n_class'],\n",
    "                                    hparam['n_channel'])"
   ]
  },
  {
   "cell_type": "markdown",
   "id": "9d045c61",
   "metadata": {},
   "source": [
    "On convertit le dictionnaire des metrics en array pour pouvoir les utiliser. "
   ]
  },
  {
   "cell_type": "code",
   "execution_count": 15,
   "id": "a549713d",
   "metadata": {},
   "outputs": [],
   "source": [
    "for index,elem in enumerate(metrics_train['accuracy']):\n",
    "    metrics_train['accuracy'][index] = np.float64(elem.detach().cpu().numpy())"
   ]
  },
  {
   "cell_type": "code",
   "execution_count": 16,
   "id": "0109a8fe",
   "metadata": {},
   "outputs": [],
   "source": [
    "for index,elem in enumerate(metrics_test['accuracy']):\n",
    "    metrics_test['accuracy'][index] = np.float64(elem.detach().cpu().numpy())"
   ]
  },
  {
   "cell_type": "markdown",
   "id": "ce8a000c",
   "metadata": {},
   "source": [
    "### Sauvegarder des metrics train & test "
   ]
  },
  {
   "cell_type": "code",
   "execution_count": 17,
   "id": "197e0389",
   "metadata": {},
   "outputs": [],
   "source": [
    "json_metrics_train = 'metrics_bce_dice_train_TEST.json'"
   ]
  },
  {
   "cell_type": "code",
   "execution_count": 18,
   "id": "c501761d",
   "metadata": {},
   "outputs": [],
   "source": [
    "json_metrics_test = 'metrics_bce_dice_test_TEST.json'"
   ]
  },
  {
   "cell_type": "code",
   "execution_count": 19,
   "id": "2d3424fa",
   "metadata": {},
   "outputs": [],
   "source": [
    "with open(json_metrics_train, 'w') as fp:\n",
    "    json.dump(metrics_train, fp)"
   ]
  },
  {
   "cell_type": "code",
   "execution_count": 20,
   "id": "ba8a1328",
   "metadata": {},
   "outputs": [],
   "source": [
    "with open(json_metrics_test, 'w') as fp:\n",
    "    json.dump(metrics_test, fp)"
   ]
  },
  {
   "cell_type": "markdown",
   "id": "a9cdaf6b",
   "metadata": {},
   "source": [
    "### Loading Model "
   ]
  },
  {
   "cell_type": "markdown",
   "id": "db75a811",
   "metadata": {},
   "source": [
    "**Chargement des modèles pré-entraînés:**"
   ]
  },
  {
   "cell_type": "code",
   "execution_count": 21,
   "id": "b99b1edd",
   "metadata": {},
   "outputs": [],
   "source": [
    "# unet_bce_8_1\n",
    "# unet_fce_8_1\n",
    "# unet_bdice_8_1\n",
    "\n",
    "#saved_model = '/home/ign.fr/ttea/Code_IGN/Data/model_save/unet_fce_8_1.pth'\n",
    "#model.load_state_dict(torch.load(saved_model))"
   ]
  },
  {
   "cell_type": "markdown",
   "id": "b9e17f3d",
   "metadata": {},
   "source": [
    "### Comparaison des résultats "
   ]
  },
  {
   "cell_type": "markdown",
   "id": "7115b42f",
   "metadata": {},
   "source": [
    "On compare les résultats des métriques des différentes loss, on put voir que la BCE et la CE ont une meilleure précision par rapport aux autres loss. \n",
    "\n",
    "De même pour la BCE et la CE concernant la valeur de la loss. "
   ]
  },
  {
   "cell_type": "markdown",
   "id": "814314fb",
   "metadata": {},
   "source": [
    "**Binary Crossentropy Loss:**\n",
    "\n",
    "Test Overall Accuracy: 93.87% Test mIoU : 78.81%  Test Loss: 0.2204\n",
    "None : 93.11%  |  Batiment : 64.52%\n",
    "\n",
    "\n",
    "**Functionnal Crossentropy Loss:**\n",
    "\n",
    "Test Overall Accuracy: 93.65% Test mIoU : 78.00%  Test Loss: 0.2657\n",
    "None : 92.88%  |  Batiment : 63.12%\n",
    "\n",
    "**Crossentropy Loss:**\n",
    "\n",
    "Test Overall Accuracy: 93.88% Test mIoU : 78.95%  Test Loss: 0.2614\n",
    "None : 93.10%  |  Batiment : 64.80%\n",
    "\n",
    "**Crossentropy Loss Weigths:**\n",
    "\n",
    "Test Overall Accuracy: 93.28% Test mIoU : 78.45%  Test Loss: 0.2900\n",
    "None : 92.35%  |  Batiment : 64.55%\n",
    "\n",
    "**Binary Dice Loss :** \n",
    "\n",
    "Test Overall Accuracy: 85.17% Test mIoU : 42.59%  Test Loss: 0.3981\n",
    "None : 85.17%  |  Batiment : 0.00%"
   ]
  },
  {
   "cell_type": "markdown",
   "id": "b172a16d",
   "metadata": {},
   "source": [
    "### Analyses des métriques "
   ]
  },
  {
   "cell_type": "markdown",
   "id": "9f85b18d",
   "metadata": {},
   "source": [
    "On affiche la courbe des métriques de la BCE."
   ]
  },
  {
   "cell_type": "code",
   "execution_count": 23,
   "id": "362119b7",
   "metadata": {},
   "outputs": [],
   "source": [
    "metrics_BCE = pd.read_json('./metrics/metrics_bce_train.json')"
   ]
  },
  {
   "cell_type": "code",
   "execution_count": 24,
   "id": "1f061634",
   "metadata": {},
   "outputs": [
    {
     "data": {
      "text/plain": [
       "<AxesSubplot:>"
      ]
     },
     "execution_count": 24,
     "metadata": {},
     "output_type": "execute_result"
    },
    {
     "data": {
      "image/png": "[encoded data removed]",
      "text/plain": [
       "<Figure size 432x288 with 1 Axes>"
      ]
     },
     "metadata": {
      "needs_background": "light"
     },
     "output_type": "display_data"
    }
   ],
   "source": [
    "metrics_BCE['loss'].plot.line()"
   ]
  },
  {
   "cell_type": "code",
   "execution_count": 25,
   "id": "050952a5",
   "metadata": {},
   "outputs": [
    {
     "data": {
      "text/plain": [
       "<AxesSubplot:>"
      ]
     },
     "execution_count": 25,
     "metadata": {},
     "output_type": "execute_result"
    },
    {
     "data": {
      "image/png": "[encoded data removed]",
      "text/plain": [
       "<Figure size 432x288 with 1 Axes>"
      ]
     },
     "metadata": {
      "needs_background": "light"
     },
     "output_type": "display_data"
    }
   ],
   "source": [
    "metrics_BCE['accuracy'].plot.line()"
   ]
  },
  {
   "cell_type": "code",
   "execution_count": 26,
   "id": "222e3110",
   "metadata": {},
   "outputs": [
    {
     "data": {
      "text/plain": [
       "<AxesSubplot:>"
      ]
     },
     "execution_count": 26,
     "metadata": {},
     "output_type": "execute_result"
    },
    {
     "data": {
      "image/png": "[encoded data removed]",
      "text/plain": [
       "<Figure size 432x288 with 1 Axes>"
      ]
     },
     "metadata": {
      "needs_background": "light"
     },
     "output_type": "display_data"
    }
   ],
   "source": [
    "metrics_BCE['mIoU'].plot.line()"
   ]
  },
  {
   "cell_type": "code",
   "execution_count": 28,
   "id": "be832334",
   "metadata": {},
   "outputs": [],
   "source": [
    "metrics_CE = pd.read_json('./metrics/metrics_ce_train.json')"
   ]
  },
  {
   "cell_type": "code",
   "execution_count": 29,
   "id": "706649d5",
   "metadata": {},
   "outputs": [],
   "source": [
    "metrics_dice = pd.read_json('./metrics/metrics_dice_train.json')"
   ]
  },
  {
   "cell_type": "code",
   "execution_count": 30,
   "id": "30ab71be",
   "metadata": {},
   "outputs": [],
   "source": [
    "metrics_bce_dice = pd.read_json('./metrics/metrics_bce_dice_train.json')"
   ]
  },
  {
   "cell_type": "markdown",
   "id": "8739f75e",
   "metadata": {},
   "source": [
    "### Comparaison Accuracy sur le nombre d'epochs"
   ]
  },
  {
   "cell_type": "markdown",
   "id": "aedad1f7",
   "metadata": {},
   "source": [
    "En suivant l'évolution de la courbe sur le nombre d'epochs on peut voir que la précision de la BCE et de la CE sont à peu près équivalentes. "
   ]
  },
  {
   "cell_type": "code",
   "execution_count": 31,
   "id": "126e5b09",
   "metadata": {},
   "outputs": [
    {
     "data": {
      "image/png": "[encoded data removed]",
      "text/plain": [
       "<Figure size 432x288 with 1 Axes>"
      ]
     },
     "metadata": {
      "needs_background": "light"
     },
     "output_type": "display_data"
    }
   ],
   "source": [
    "# multiple line plots\n",
    "bce_acc = plt.plot( 'accuracy', data=metrics_BCE, marker='o',  color='skyblue', linewidth=2,label=\"BCE\")\n",
    "ce_acc = plt.plot( 'accuracy', data=metrics_CE, marker='', color='olive', linewidth=2,label=\"CE\")\n",
    "dice_acc = plt.plot( 'accuracy', data=metrics_dice, marker='', color='red', linewidth=2,label=\"dice\")\n",
    "bce_dice_acc = plt.plot( 'accuracy', data=metrics_bce_dice, marker='', color='orange', linewidth=2,label=\"bce_dice\")\n",
    "\n",
    "# show legend\n",
    "plt.legend()\n",
    "plt.xlabel(\"Nombre d'epochs\")\n",
    "plt.ylabel('Précision')\n",
    "plt.title('Comparaison des précisions des différentes loss')\n",
    "\n",
    "# show graph\n",
    "plt.show()"
   ]
  },
  {
   "cell_type": "markdown",
   "id": "97d43fbe",
   "metadata": {},
   "source": [
    "### Comparaison Loss"
   ]
  },
  {
   "cell_type": "code",
   "execution_count": 32,
   "id": "3664a5b9",
   "metadata": {},
   "outputs": [
    {
     "data": {
      "image/png": "[encoded data removed]",
      "text/plain": [
       "<Figure size 432x288 with 1 Axes>"
      ]
     },
     "metadata": {
      "needs_background": "light"
     },
     "output_type": "display_data"
    }
   ],
   "source": [
    "bce_loss = plt.plot( 'loss', data=metrics_BCE, marker='o',  color='skyblue', linewidth=2,label=\"BCE\")\n",
    "ce_loss = plt.plot( 'loss', data=metrics_CE, marker='', color='olive', linewidth=2,label=\"CE\")\n",
    "dice_loss = plt.plot( 'loss', data=metrics_dice, marker='', color='red', linewidth=2,label=\"dice\")\n",
    "bce_dice_loss = plt.plot( 'loss', data=metrics_bce_dice, marker='', color='orange', linewidth=2,label=\"bce_dice\")\n",
    "\n",
    "plt.legend()\n",
    "plt.xlabel(\"Nombre d'epochs\")\n",
    "plt.ylabel('Précision')\n",
    "plt.title('Comparaison des loss')\n",
    "\n",
    "plt.show()"
   ]
  },
  {
   "cell_type": "markdown",
   "id": "d0c2ccfa",
   "metadata": {},
   "source": [
    "### Comparaison mIoU"
   ]
  },
  {
   "cell_type": "code",
   "execution_count": 33,
   "id": "aa8b8f98",
   "metadata": {},
   "outputs": [
    {
     "data": {
      "image/png": "[encoded data removed]",
      "text/plain": [
       "<Figure size 432x288 with 1 Axes>"
      ]
     },
     "metadata": {
      "needs_background": "light"
     },
     "output_type": "display_data"
    }
   ],
   "source": [
    "bce_mIoU = plt.plot('mIoU', data=metrics_BCE, marker='o',  color='skyblue', linewidth=2,label=\"BCE\")\n",
    "ce_mIoU = plt.plot('mIoU', data=metrics_CE, marker='', color='olive', linewidth=2,label=\"CE\")\n",
    "dice_mIoU = plt.plot('mIoU', data=metrics_dice, marker='', color='red', linewidth=2,label=\"dice\")\n",
    "bce_dice_mIoU = plt.plot('mIoU', data=metrics_bce_dice, marker='', color='orange', linewidth=2,label=\"bce_dice\")\n",
    "\n",
    "plt.legend()\n",
    "plt.xlabel(\"Nombre d'epochs\")\n",
    "plt.ylabel('Précision')\n",
    "plt.title('Comparaison de mIoU des différentes loss')\n",
    "\n",
    "plt.show()"
   ]
  },
  {
   "cell_type": "markdown",
   "id": "14c99af9",
   "metadata": {},
   "source": [
    "### Comparaison de la précision finale des loss "
   ]
  },
  {
   "cell_type": "code",
   "execution_count": 37,
   "id": "7e7f707b",
   "metadata": {},
   "outputs": [],
   "source": [
    "metrics_dice_test = pd.read_json('./metrics/metrics_dice_test.json')\n",
    "metrics_CE_test = pd.read_json('./metrics/metrics_ce_test.json')\n",
    "metrics_BCE_test = pd.read_json('./metrics/metrics_bce_test.json')\n",
    "metrics_BCE_dice_test = pd.read_json('./metrics/metrics_bce_dice_test.json')"
   ]
  },
  {
   "cell_type": "code",
   "execution_count": 38,
   "id": "61fb1f9e",
   "metadata": {},
   "outputs": [],
   "source": [
    "BCE_final_acc = metrics_BCE_test['accuracy'].iloc[-1]\n",
    "CE_final_acc = metrics_CE_test['accuracy'].iloc[-1]\n",
    "dice_final_acc = metrics_dice_test['accuracy'].iloc[-1]\n",
    "bce_dice_final_acc = metrics_BCE_dice_test['accuracy'].iloc[-1]"
   ]
  },
  {
   "cell_type": "markdown",
   "id": "ed70e797",
   "metadata": {},
   "source": [
    "### Barplot des précisions par rapports aux différentes loss "
   ]
  },
  {
   "cell_type": "code",
   "execution_count": 39,
   "id": "136b39d7",
   "metadata": {},
   "outputs": [
    {
     "data": {
      "image/png": "[encoded data removed]",
      "text/plain": [
       "<Figure size 432x288 with 1 Axes>"
      ]
     },
     "metadata": {
      "needs_background": "light"
     },
     "output_type": "display_data"
    }
   ],
   "source": [
    "index = ['Loss']\n",
    "\n",
    "df_acc = pd.DataFrame({'BCE':BCE_final_acc ,'CE':CE_final_acc,'Dice': dice_final_acc,'BCE_Dice':bce_dice_final_acc},index = index)\n",
    "ax = df_acc.plot.bar(rot=0,ylim = (45,100))"
   ]
  },
  {
   "cell_type": "markdown",
   "id": "8d3379f2",
   "metadata": {},
   "source": [
    "### Test des différentes Loss sur des exemples "
   ]
  },
  {
   "cell_type": "code",
   "execution_count": 40,
   "id": "b2119b3a",
   "metadata": {},
   "outputs": [
    {
     "name": "stdout",
     "output_type": "stream",
     "text": [
      "tensor(0.7677, grad_fn=<BinaryCrossEntropyWithLogitsBackward>)\n"
     ]
    }
   ],
   "source": [
    "# BCE \n",
    "loss = nn.BCEWithLogitsLoss()\n",
    "input = torch.randn(3, requires_grad=True)\n",
    "target = torch.empty(3).random_(2)\n",
    "output = loss(input, target)\n",
    "output.backward()\n",
    "\n",
    "print(output)"
   ]
  },
  {
   "cell_type": "code",
   "execution_count": 41,
   "id": "225e3cef",
   "metadata": {},
   "outputs": [
    {
     "name": "stdout",
     "output_type": "stream",
     "text": [
      "tensor(1.0690, grad_fn=<NllLossBackward>)\n"
     ]
    }
   ],
   "source": [
    "# Crossentropy\n",
    "loss = nn.CrossEntropyLoss(reduction=\"mean\")\n",
    "input = torch.randn(3, 2,requires_grad=True)\n",
    "target = torch.empty(3,dtype=torch.long).random_(2)\n",
    "output = loss(input, target)\n",
    "output.backward()\n",
    "\n",
    "print(output)"
   ]
  },
  {
   "cell_type": "code",
   "execution_count": 42,
   "id": "ca4dba2c",
   "metadata": {},
   "outputs": [
    {
     "name": "stdout",
     "output_type": "stream",
     "text": [
      "tensor(-0.2869, grad_fn=<MeanBackward0>)\n"
     ]
    }
   ],
   "source": [
    "# Binary Dice Loss \n",
    "loss = BinaryDiceLoss\n",
    "input = torch.randn(3, requires_grad=True)\n",
    "target = torch.empty(3).random_(2)\n",
    "output = loss(input, target)\n",
    "output.backward()\n",
    "\n",
    "print(output)"
   ]
  },
  {
   "cell_type": "code",
   "execution_count": null,
   "id": "0f1c4ff1",
   "metadata": {},
   "outputs": [],
   "source": []
  }
 ],
 "metadata": {
  "kernelspec": {
   "display_name": "Python 3",
   "language": "python",
   "name": "python3"
  },
  "language_info": {
   "codemirror_mode": {
    "name": "ipython",
    "version": 3
   },
   "file_extension": ".py",
   "mimetype": "text/x-python",
   "name": "python",
   "nbconvert_exporter": "python",
   "pygments_lexer": "ipython3",
   "version": "3.8.10"
  }
 },
 "nbformat": 4,
 "nbformat_minor": 5
}
