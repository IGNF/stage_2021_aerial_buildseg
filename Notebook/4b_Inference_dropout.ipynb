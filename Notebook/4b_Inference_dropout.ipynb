{
 "cells": [
  {
   "cell_type": "markdown",
   "id": "2e28deb4",
   "metadata": {},
   "source": [
    "# Inference UNet "
   ]
  },
  {
   "cell_type": "markdown",
   "id": "52ac6bf9",
   "metadata": {},
   "source": [
    "**Objectif:** le but de ce notebook est de faire des prédictions sur les images tests en moyennant les modèles et en utilisant le dropout.  "
   ]
  },
  {
   "cell_type": "markdown",
   "id": "fcd1eb01",
   "metadata": {},
   "source": [
    "### Root Variables "
   ]
  },
  {
   "cell_type": "code",
   "execution_count": 14,
   "id": "646ecc08",
   "metadata": {},
   "outputs": [],
   "source": [
    "import os "
   ]
  },
  {
   "cell_type": "code",
   "execution_count": 15,
   "id": "25b1ef40",
   "metadata": {},
   "outputs": [],
   "source": [
    "root = '/home/ign.fr/ttea/Code_IGN/AerialImageDataset'\n",
    "train_dir = os.path.join(root,'train/images')\n",
    "gt_dir = os.path.join(root,'train/gt')\n",
    "test_dir = os.path.join(root,'test/images')"
   ]
  },
  {
   "cell_type": "code",
   "execution_count": 16,
   "id": "26d65109",
   "metadata": {},
   "outputs": [],
   "source": [
    "import sys "
   ]
  },
  {
   "cell_type": "code",
   "execution_count": 17,
   "id": "eb0912ab",
   "metadata": {},
   "outputs": [],
   "source": [
    "sys.path.insert(0, '/home/ign.fr/ttea/stage_segmentation_2021/Code')"
   ]
  },
  {
   "cell_type": "markdown",
   "id": "0d1f5ed9",
   "metadata": {},
   "source": [
    "### Import Libraries "
   ]
  },
  {
   "cell_type": "code",
   "execution_count": 18,
   "id": "af58ec31",
   "metadata": {},
   "outputs": [],
   "source": [
    "import numpy as np\n",
    "import pandas as pd \n",
    "%matplotlib inline\n",
    "import matplotlib.pyplot as plt\n",
    "\n",
    "import torch\n",
    "import torch.nn.functional as F\n",
    "import torch.nn as nn\n",
    "import torch.optim as optim\n",
    "\n",
    "import rasterio\n",
    "from rasterio.plot import reshape_as_image, reshape_as_raster\n",
    "import rasterio.mask\n",
    "from torch.utils.data import Dataset, DataLoader\n",
    "from rasterio.features import rasterize\n",
    "from rasterio.windows import Window\n",
    "from rasterio.crs import CRS\n",
    "from rasterio.transform import from_origin\n",
    "from rasterio.merge import merge\n",
    "from rasterio.plot import show\n",
    "\n",
    "import glob\n",
    "\n",
    "from PIL import Image\n",
    "import albumentations as A\n",
    "#import monai\n",
    "#import monai.inferers\n",
    "#from monai.data.utils import compute_importance_map, dense_patch_slices, get_valid_patch_size\n",
    "#from monai.utils import BlendMode, PytorchPadMode, fall_back_tuple"
   ]
  },
  {
   "cell_type": "code",
   "execution_count": 19,
   "id": "896d3c54",
   "metadata": {},
   "outputs": [],
   "source": [
    "from dataloader.dataloader import InriaDataset\n",
    "from model.model import UNetDropout\n",
    "from train import train, eval, train_full"
   ]
  },
  {
   "cell_type": "code",
   "execution_count": 20,
   "id": "6acdc750",
   "metadata": {},
   "outputs": [],
   "source": [
    "var = pd.read_json('variables.json')"
   ]
  },
  {
   "cell_type": "markdown",
   "id": "d96618b5",
   "metadata": {},
   "source": [
    "## Inria Dataset "
   ]
  },
  {
   "cell_type": "markdown",
   "id": "79e4d741",
   "metadata": {},
   "source": [
    "### Tile Image"
   ]
  },
  {
   "cell_type": "code",
   "execution_count": 21,
   "id": "44db2cc6",
   "metadata": {},
   "outputs": [],
   "source": [
    "def read_image(root,filename):\n",
    "    \"\"\"\n",
    "    read image with rasterio and return an array [C, W, H]\n",
    "    \n",
    "    no schema/georef returned yet.\n",
    "    root : root directory \n",
    "    filename : image filename as string\n",
    "    \n",
    "    Returns: raster as an array \n",
    "    \"\"\"\n",
    "    img = rasterio.open(os.path.join(root,filename))\n",
    "    img_array = img.read()\n",
    "    img.close()\n",
    "    return img_array"
   ]
  },
  {
   "cell_type": "markdown",
   "id": "5d1f4c69",
   "metadata": {},
   "source": [
    "# Dataset"
   ]
  },
  {
   "cell_type": "code",
   "execution_count": 22,
   "id": "75d82807",
   "metadata": {},
   "outputs": [],
   "source": [
    "tile_size = (256,256)\n",
    "train_dataset = InriaDataset(var['variables']['root'],tile_size,'train',None,False,1)\n",
    "val_dataset = InriaDataset(var['variables']['root'],tile_size,'validation',None,False,1)"
   ]
  },
  {
   "cell_type": "code",
   "execution_count": 23,
   "id": "a8818bb0",
   "metadata": {},
   "outputs": [],
   "source": [
    "train_dataloader = DataLoader(train_dataset, 4, num_workers=6,  drop_last=True, shuffle=True)\n",
    "val_dataloader = DataLoader(val_dataset, 4, num_workers=6, drop_last=True)"
   ]
  },
  {
   "cell_type": "code",
   "execution_count": 24,
   "id": "b7b8edf0",
   "metadata": {},
   "outputs": [],
   "source": [
    "train_dataset_hflip = InriaDataset(root, tile_size, 'train', 'HorizontalFlip', False,1)\n",
    "train_dataset_vflip = InriaDataset(root, tile_size, 'train', 'VerticalFlip', False,1)\n",
    "train_dataset_rot = InriaDataset(root, tile_size, 'train', 'Rotation90', False,1)"
   ]
  },
  {
   "cell_type": "code",
   "execution_count": 25,
   "id": "a2bbff36",
   "metadata": {},
   "outputs": [],
   "source": [
    "hparam = {\n",
    "    'lr':0.0001,\n",
    "    'n_epoch':40,\n",
    "    'n_epoch_test':int(5),\n",
    "    'n_class':2,\n",
    "    'batch_size':8,\n",
    "    'n_channel':3,\n",
    "    'conv_width':[16,32,64,128,256,128,64,32,16],\n",
    "}"
   ]
  },
  {
   "cell_type": "code",
   "execution_count": 28,
   "id": "20635a68",
   "metadata": {},
   "outputs": [],
   "source": [
    "tile_size = (512,512)\n",
    "\n",
    "weights = [0.5, 1.0]\n",
    "class_weights = torch.FloatTensor(weights).cuda()\n",
    "\n",
    "args = {\n",
    "    #'nn_loss':nn.BCEWithLogitsLoss(reduction=\"mean\"),\n",
    "    'nn_loss':nn.CrossEntropyLoss(weight = class_weights,reduction=\"mean\"),\n",
    "    #'loss_name': 'BinaryCrossentropy',\n",
    "    'loss_name': 'Crossentropy',\n",
    "    'threshold':0.5,\n",
    "    'cuda':1,\n",
    "    'class_names':['None','Batiment'],\n",
    "    'save_model':False,\n",
    "    'save_model_name':\"unet_CEdropout_8_1.pth\",\n",
    "    'train_dataset':InriaDataset(var['variables']['root'],tile_size,'train',None,False,1),\n",
    "    'val_dataset':InriaDataset(var['variables']['root'],tile_size,'validation',None,False,1),\n",
    "}"
   ]
  },
  {
   "cell_type": "markdown",
   "id": "0124b878",
   "metadata": {},
   "source": [
    "## Training Model with Dropout "
   ]
  },
  {
   "cell_type": "code",
   "execution_count": 30,
   "id": "68f84c74",
   "metadata": {},
   "outputs": [],
   "source": [
    "model = UNetDropout(hparam['n_channel'], hparam['conv_width'], hparam['n_class'], cuda=args['cuda'])\n",
    "#trained_model, metrics_train, metrics_test = train_full(args, model,hparam['lr'],hparam['n_epoch'],\n",
    "#                                    hparam['n_epoch_test'],hparam['batch_size'],hparam['n_class'],\n",
    "#                                    hparam['n_channel'])"
   ]
  },
  {
   "cell_type": "code",
   "execution_count": 31,
   "id": "688a77d7",
   "metadata": {},
   "outputs": [],
   "source": [
    "def apply_dropout(m):\n",
    "    if type(m) == nn.Dropout:\n",
    "        m.train()"
   ]
  },
  {
   "cell_type": "markdown",
   "id": "e5cfd505",
   "metadata": {},
   "source": [
    "## Loading Model with Dropout"
   ]
  },
  {
   "cell_type": "markdown",
   "id": "03f6c2fa",
   "metadata": {},
   "source": [
    "On charge le modèle qui est déjà pré-entraîné pour pouvoir l'utiliser pour l'inférence."
   ]
  },
  {
   "cell_type": "code",
   "execution_count": 32,
   "id": "d150d1e2",
   "metadata": {},
   "outputs": [
    {
     "data": {
      "text/plain": [
       "UNetDropout(\n",
       "  (c1): Sequential(\n",
       "    (0): Conv2d(3, 16, kernel_size=(3, 3), stride=(1, 1), padding=(1, 1))\n",
       "    (1): ReLU(inplace=True)\n",
       "    (2): Conv2d(16, 16, kernel_size=(3, 3), stride=(1, 1), padding=(1, 1))\n",
       "    (3): ReLU(inplace=True)\n",
       "  )\n",
       "  (p1): MaxPool2d(kernel_size=2, stride=2, padding=0, dilation=1, ceil_mode=False)\n",
       "  (c2): Sequential(\n",
       "    (0): Conv2d(16, 32, kernel_size=(3, 3), stride=(1, 1), padding=(1, 1))\n",
       "    (1): ReLU(inplace=True)\n",
       "    (2): Conv2d(32, 32, kernel_size=(3, 3), stride=(1, 1), padding=(1, 1))\n",
       "    (3): ReLU(inplace=True)\n",
       "  )\n",
       "  (p2): MaxPool2d(kernel_size=2, stride=2, padding=0, dilation=1, ceil_mode=False)\n",
       "  (c3): Sequential(\n",
       "    (0): Conv2d(32, 64, kernel_size=(3, 3), stride=(1, 1), padding=(1, 1))\n",
       "    (1): ReLU(inplace=True)\n",
       "    (2): Conv2d(64, 64, kernel_size=(3, 3), stride=(1, 1), padding=(1, 1))\n",
       "    (3): ReLU(inplace=True)\n",
       "  )\n",
       "  (p3): MaxPool2d(kernel_size=2, stride=2, padding=0, dilation=1, ceil_mode=False)\n",
       "  (c4): Sequential(\n",
       "    (0): Conv2d(64, 128, kernel_size=(3, 3), stride=(1, 1), padding=(1, 1))\n",
       "    (1): ReLU(inplace=True)\n",
       "    (2): Conv2d(128, 128, kernel_size=(3, 3), stride=(1, 1), padding=(1, 1))\n",
       "    (3): ReLU(inplace=True)\n",
       "  )\n",
       "  (p4): MaxPool2d(kernel_size=2, stride=2, padding=0, dilation=1, ceil_mode=False)\n",
       "  (c5): Sequential(\n",
       "    (0): Conv2d(128, 256, kernel_size=(3, 3), stride=(1, 1), padding=(1, 1))\n",
       "    (1): ReLU(inplace=True)\n",
       "    (2): Conv2d(256, 256, kernel_size=(3, 3), stride=(1, 1), padding=(1, 1))\n",
       "    (3): ReLU(inplace=True)\n",
       "  )\n",
       "  (d1): Dropout2d(p=0.1, inplace=False)\n",
       "  (d2): Dropout2d(p=0.1, inplace=False)\n",
       "  (d3): Dropout2d(p=0.1, inplace=False)\n",
       "  (d4): Dropout2d(p=0.1, inplace=False)\n",
       "  (d5): Dropout2d(p=0.1, inplace=False)\n",
       "  (d6): Dropout2d(p=0.1, inplace=False)\n",
       "  (d7): Dropout2d(p=0.1, inplace=False)\n",
       "  (d8): Dropout2d(p=0.1, inplace=False)\n",
       "  (t6): ConvTranspose2d(256, 128, kernel_size=(2, 2), stride=(2, 2))\n",
       "  (c6): Sequential(\n",
       "    (0): Conv2d(256, 128, kernel_size=(3, 3), stride=(1, 1), padding=(1, 1))\n",
       "    (1): ReLU(inplace=True)\n",
       "    (2): Conv2d(128, 128, kernel_size=(3, 3), stride=(1, 1), padding=(1, 1))\n",
       "    (3): ReLU(inplace=True)\n",
       "  )\n",
       "  (t7): ConvTranspose2d(128, 64, kernel_size=(2, 2), stride=(2, 2))\n",
       "  (c7): Sequential(\n",
       "    (0): Conv2d(128, 64, kernel_size=(3, 3), stride=(1, 1), padding=(1, 1))\n",
       "    (1): ReLU(inplace=True)\n",
       "    (2): Conv2d(64, 64, kernel_size=(3, 3), stride=(1, 1), padding=(1, 1))\n",
       "    (3): ReLU(inplace=True)\n",
       "  )\n",
       "  (t8): ConvTranspose2d(64, 32, kernel_size=(2, 2), stride=(2, 2))\n",
       "  (c8): Sequential(\n",
       "    (0): Conv2d(64, 32, kernel_size=(3, 3), stride=(1, 1), padding=(1, 1))\n",
       "    (1): ReLU(inplace=True)\n",
       "    (2): Conv2d(32, 32, kernel_size=(3, 3), stride=(1, 1), padding=(1, 1))\n",
       "    (3): ReLU(inplace=True)\n",
       "  )\n",
       "  (t9): ConvTranspose2d(32, 16, kernel_size=(2, 2), stride=(2, 2))\n",
       "  (c9): Sequential(\n",
       "    (0): Conv2d(32, 16, kernel_size=(3, 3), stride=(1, 1), padding=(1, 1))\n",
       "    (1): ReLU(inplace=True)\n",
       "    (2): Conv2d(16, 16, kernel_size=(3, 3), stride=(1, 1), padding=(1, 1))\n",
       "    (3): ReLU(inplace=True)\n",
       "  )\n",
       "  (outputs): Conv2d(16, 2, kernel_size=(1, 1), stride=(1, 1))\n",
       ")"
      ]
     },
     "execution_count": 32,
     "metadata": {},
     "output_type": "execute_result"
    }
   ],
   "source": [
    "model = UNetDropout(hparam['n_channel'], hparam['conv_width'], hparam['n_class'], cuda=args['cuda'])\n",
    "\n",
    "save_model = '/home/ign.fr/ttea/Code_IGN/Data/model_save/unet_CEdropout_8_1.pth'\n",
    "model.load_state_dict(torch.load(save_model))\n",
    "model.apply(apply_dropout)"
   ]
  },
  {
   "cell_type": "markdown",
   "id": "07895565",
   "metadata": {},
   "source": [
    "### Inference Method"
   ]
  },
  {
   "cell_type": "markdown",
   "id": "f6ac3633",
   "metadata": {},
   "source": [
    "La fonction predictor_arg va retourner l'indice de la plus grande valeur dans le tenseur. \n",
    "\n",
    "La fonction inference prends en entrée :\n",
    "- le chemin de l'image\n",
    "- la taille de la tuile \n",
    "- prédicteur\n",
    "- dossier de sortie \n",
    "\n",
    "Retourne : Ecrit la prédiction dans une numpy array. \n",
    "\n",
    "Les étapes sont : \n",
    "- Ouverture du fichier avec rasterio \n",
    "- Initialisation du masque ou l'on va écrire la prédiction \n",
    "- Pour chaque tuile on va faire une prédiction puis l'écrire \n",
    "- On retourne la numpy array finale qui contient la prédiction de l'image "
   ]
  },
  {
   "cell_type": "code",
   "execution_count": 33,
   "id": "6e4d2754",
   "metadata": {},
   "outputs": [],
   "source": [
    "def predictor_arg(tensor):\n",
    "    return model(tensor).argmax(1) \n",
    "\n",
    "def inference_roi(path_image,roi_size,predictor,output_dir):\n",
    "    \n",
    "    # open image with rasterio \n",
    "    img =  rasterio.open(os.path.join(path_image))\n",
    "    height = img.height\n",
    "    width = img.width\n",
    "    \n",
    "    nb_col = width // roi_size[0]\n",
    "    nb_row = height // roi_size[1]\n",
    "    \n",
    "    base=os.path.basename(path_image)\n",
    "    base_without_ex = os.path.splitext(base)[0]\n",
    "\n",
    "    profile = img.profile.copy()\n",
    "\n",
    "    # And then change the band count to 1, set the\n",
    "    # dtype to uint8, and specify LZW compression.\n",
    "    profile.update(\n",
    "        dtype=rasterio.uint8,\n",
    "        count=1,\n",
    "        driver = \"GTiff\",\n",
    "        height = height,\n",
    "        width = width,\n",
    "        compress='lzw')\n",
    "\n",
    "    img_transform = img.transform\n",
    "    \n",
    "    # Initialisation \n",
    "    mask =  np.zeros((1,width, height))\n",
    "    \n",
    "    shp_width = np.shape(mask)[1]\n",
    "    shp_height = np.shape(mask)[2]\n",
    "    \n",
    "    with torch.no_grad(): \n",
    "        for col in range(0,nb_col):\n",
    "            for row in range(0,nb_row):\n",
    "                \n",
    "                tile = img.read(window=Window(col*roi_size[0],row*roi_size[1],roi_size[0],roi_size[1]))\n",
    "                tile_tensor = torch.from_numpy(tile).float()\n",
    "                pred = predictor(tile_tensor.unsqueeze(dim=0))\n",
    "                pred_cm = pred.cpu().detach().numpy()\n",
    "                \n",
    "                # Affiche Rvb & Mask \n",
    "                #show(tile)\n",
    "                #show(pred_cm)\n",
    "                \n",
    "                mask[:,row*roi_size[1]:(row+1)*roi_size[1],col*roi_size[0]:(col+1)*roi_size[0]] = pred_cm.astype(np.uint8)\n",
    "                \n",
    "                # Cas unique dernière tile en diagonale\n",
    "                if (col == nb_col -1) and (row == nb_row -1):\n",
    "                    tile = img.read(window=Window( shp_width - roi_size[0], shp_height - roi_size[1],roi_size[0],roi_size[1]))\n",
    "                    tile_tensor = torch.from_numpy(tile).float()\n",
    "                    pred = predictor(tile_tensor.unsqueeze(dim=0))\n",
    "                    pred_cm = pred.cpu().detach().numpy()\n",
    "                    mask[:,shp_height - roi_size[0] :,shp_width - roi_size[1]:] = pred_cm.astype(np.uint8)\n",
    "                    \n",
    "                \n",
    "                # Dernière Row -> Recouvrement\n",
    "                if row == nb_row -1:\n",
    "                    # window argument : taille height, width image\n",
    "                    tile = img.read(window=Window(col*roi_size[0],shp_height - roi_size[0],roi_size[0],roi_size[1]))\n",
    "                    tile_tensor = torch.from_numpy(tile).float()\n",
    "                    pred = predictor(tile_tensor.unsqueeze(dim=0))\n",
    "                    pred_cm = pred.cpu().detach().numpy()\n",
    "                    mask[:,shp_height - roi_size[1]:,col*roi_size[0]:(col+1)*roi_size[0]] = pred_cm.astype(np.uint8)\n",
    "                \n",
    "                # Dernière Col -> Recouvrement \n",
    "                if col == nb_col -1:\n",
    "                    # window argument : taille height, width image\n",
    "                    tile = img.read(window=Window( shp_width - roi_size[0], row*roi_size[1] ,roi_size[0],roi_size[1]))\n",
    "                    tile_tensor = torch.from_numpy(tile).float()\n",
    "                    pred = predictor(tile_tensor.unsqueeze(dim=0))\n",
    "                    pred_cm = pred.cpu().detach().numpy()\n",
    "                    mask[:,row*roi_size[1]:(row+1)*roi_size[1],shp_height - roi_size[0]:] = pred_cm.astype(np.uint8)\n",
    "                    \n",
    "        # Profile update (transformation)\n",
    "        x,y = rasterio.transform.xy(img_transform, nb_col*roi_size[0],nb_row*roi_size[1])\n",
    "        out_transform = rasterio.transform.from_origin(x,y,nb_col*roi_size[0],nb_row *roi_size[1]) \n",
    "        out_tile_name = os.path.join(output_dir,f'{base_without_ex}_{nb_col:02}_{nb_row:02}_predfinal.tif')\n",
    "        profile.update(transform = out_transform)\n",
    "        \n",
    "        # Plot mask \n",
    "        mask = mask.astype(np.uint8)\n",
    "        show(mask)\n",
    "        \n",
    "        with rasterio.open(out_tile_name,\"w\",**profile) as dst : \n",
    "            dst.write(mask)"
   ]
  },
  {
   "cell_type": "code",
   "execution_count": 34,
   "id": "150de18a",
   "metadata": {},
   "outputs": [
    {
     "data": {
      "image/png": "[encoded data removed]",
      "text/plain": [
       "<Figure size 432x288 with 1 Axes>"
      ]
     },
     "metadata": {
      "needs_background": "light"
     },
     "output_type": "display_data"
    }
   ],
   "source": [
    "# inference parameter \n",
    "predictor = predictor_arg\n",
    "roi_size = (256,256)\n",
    "\n",
    "list_img = os.listdir(test_dir)\n",
    "path_image = os.path.join(test_dir,list_img[2])\n",
    "output_dir = r'/home/ign.fr/ttea/Code_IGN/Data/output'\n",
    "\n",
    "inference_roi(path_image,roi_size,predictor,output_dir)"
   ]
  },
  {
   "cell_type": "markdown",
   "id": "a27cf752",
   "metadata": {},
   "source": [
    "### Inference with Batch"
   ]
  },
  {
   "cell_type": "code",
   "execution_count": 35,
   "id": "3c4db7a5",
   "metadata": {},
   "outputs": [],
   "source": [
    "def inference_roi_batch(path_image,roi_size,predictor,output_dir,batch_size):\n",
    "    \n",
    "    # open image with rasterio \n",
    "    img =  rasterio.open(os.path.join(path_image))\n",
    "    height = img.height\n",
    "    width = img.width\n",
    "    \n",
    "    nb_col = width // roi_size[0]\n",
    "    nb_row = height // roi_size[1]\n",
    "    \n",
    "    base=os.path.basename(path_image)\n",
    "    base_without_ex = os.path.splitext(base)[0]\n",
    "\n",
    "    profile = img.profile.copy()\n",
    "\n",
    "    # And then change the band count to 1, set the\n",
    "    # dtype to uint8, and specify LZW compression.\n",
    "    profile.update(\n",
    "        dtype=rasterio.uint8,\n",
    "        count=1,\n",
    "        driver = \"GTiff\",\n",
    "        height = height,\n",
    "        width = width,\n",
    "        compress='lzw')\n",
    "\n",
    "    img_transform = img.transform\n",
    "    \n",
    "    # Initialisation \n",
    "    mask =  np.zeros((1,width, height))\n",
    "    \n",
    "    \n",
    "    \n",
    "    n = True\n",
    "    \n",
    "    shp_width = np.shape(mask)[1]\n",
    "    shp_height = np.shape(mask)[2]\n",
    "    \n",
    "    with torch.no_grad(): \n",
    "        for col in range(0,nb_col):\n",
    "            for row in range(0,nb_row):\n",
    "                \n",
    "                pred_list = []\n",
    "                \n",
    "                tile = img.read(window=Window(col*roi_size[0],row*roi_size[1],roi_size[0],roi_size[1]))\n",
    "                # Dupplique la taille par rapport au nombre de batch (1,nb canaux, roi size, roi size) -> (batch_size, nb canaux, roi size, roi size)\n",
    "                tile = np.repeat(tile[np.newaxis,:, :,: ], batch_size, axis=0)\n",
    "                tile_tensor = torch.from_numpy(tile).float()\n",
    "                \n",
    "                for i in range(batch_size):\n",
    "                    #pred = predictor(tile_tensor.unsqueeze(dim=0))\n",
    "                    pred = predictor(tile_tensor[i].unsqueeze(dim=0))\n",
    "                    pred_cm = pred.cpu().detach().numpy()          \n",
    "                    pred_list.append(pred_cm)\n",
    "                \n",
    "                pred_avg = sum(pred_list) / 4\n",
    "                    \n",
    "                # Affiche Rvb & Mask \n",
    "                #show(tile)\n",
    "                #show(pred_cm)\n",
    "                \n",
    "                mask[:,row*roi_size[1]:(row+1)*roi_size[1],col*roi_size[0]:(col+1)*roi_size[0]] = pred_avg.astype(np.uint8)\n",
    "                \n",
    "                # Cas unique dernière tile en diagonale\n",
    "                if (col == nb_col -1) and (row == nb_row -1):\n",
    "                    tile = img.read(window=Window( shp_width - roi_size[0], shp_height - roi_size[1],roi_size[0],roi_size[1]))\n",
    "                    tile = np.repeat(tile[np.newaxis,:, :,: ], batch_size, axis=0)\n",
    "                    tile_tensor = torch.from_numpy(tile).float()\n",
    "                    \n",
    "                    for i in range(batch_size):\n",
    "                        pred = predictor(tile_tensor[i].unsqueeze(dim=0))\n",
    "                        pred_cm = pred.cpu().detach().numpy()\n",
    "                        pred_list.append(pred_cm)\n",
    "                    \n",
    "                    pred_avg = sum(pred_list) / 4\n",
    "                    \n",
    "                    mask[:,shp_height - roi_size[0] :,shp_width - roi_size[1]:] = pred_avg.astype(np.uint8)\n",
    "                        \n",
    "                # Dernière Row -> Recouvrement\n",
    "                if row == nb_row -1:\n",
    "                    # window argument : taille height, width image\n",
    "                    tile = img.read(window=Window(col*roi_size[0],shp_height - roi_size[0],roi_size[0],roi_size[1]))\n",
    "                    tile = np.repeat(tile[np.newaxis,:, :,: ], batch_size, axis=0)\n",
    "                    tile_tensor = torch.from_numpy(tile).float()\n",
    "                    \n",
    "                    for i in range(batch_size):\n",
    "                        pred = predictor(tile_tensor[i].unsqueeze(dim=0))\n",
    "                        pred_cm = pred.cpu().detach().numpy()\n",
    "                        pred_list.append(pred_cm)\n",
    "                        \n",
    "                    pred_avg = sum(pred_list) / 4\n",
    "                    \n",
    "                    mask[:,shp_height - roi_size[1]:,col*roi_size[0]:(col+1)*roi_size[0]] = pred_avg.astype(np.uint8)\n",
    "                    \n",
    "                # Dernière Col -> Recouvrement \n",
    "                if col == nb_col -1:\n",
    "                    # window argument : taille height, width image\n",
    "                    tile = img.read(window=Window( shp_width - roi_size[0], row*roi_size[1] ,roi_size[0],roi_size[1]))\n",
    "                    tile = np.repeat(tile[np.newaxis,:, :,: ], batch_size, axis=0)\n",
    "                    tile_tensor = torch.from_numpy(tile).float()\n",
    "                    \n",
    "                    for i in range(batch_size):\n",
    "                        pred = predictor(tile_tensor[i].unsqueeze(dim=0))\n",
    "                        pred_cm = pred.cpu().detach().numpy()\n",
    "                        pred_list.append(pred_cm)\n",
    "                        \n",
    "                    pred_avg = sum(pred_list) / 4\n",
    "                    \n",
    "                    mask[:,row*roi_size[1]:(row+1)*roi_size[1],shp_height - roi_size[0]:] = pred_avg.astype(np.uint8)\n",
    "                    \n",
    "        # Profile update (transformation)\n",
    "        x,y = rasterio.transform.xy(img_transform, nb_col*roi_size[0],nb_row*roi_size[1])\n",
    "        out_transform = rasterio.transform.from_origin(x,y,nb_col*roi_size[0],nb_row *roi_size[1]) \n",
    "        out_tile_name = os.path.join(output_dir,f'{base_without_ex}_{nb_col:02}_{nb_row:02}_predfinal.tif')\n",
    "        profile.update(transform = out_transform)\n",
    "        \n",
    "        # Plot mask \n",
    "        mask = mask.astype(np.uint8)\n",
    "        show(mask)\n",
    "        \n",
    "        with rasterio.open(out_tile_name,\"w\",**profile) as dst : \n",
    "            dst.write(mask)"
   ]
  },
  {
   "cell_type": "code",
   "execution_count": 36,
   "id": "d8c1c3ca",
   "metadata": {},
   "outputs": [
    {
     "data": {
      "image/png": "[encoded data removed]",
      "text/plain": [
       "<Figure size 432x288 with 1 Axes>"
      ]
     },
     "metadata": {
      "needs_background": "light"
     },
     "output_type": "display_data"
    }
   ],
   "source": [
    "# inference parameter \n",
    "predictor = predictor_arg\n",
    "roi_size = (256,256)\n",
    "batch_size = 4\n",
    "\n",
    "list_img = os.listdir(test_dir)\n",
    "path_image = os.path.join(test_dir,list_img[2])\n",
    "output_dir = r'/home/ign.fr/ttea/Code_IGN/Data/output'\n",
    "\n",
    "inference_roi_batch(path_image,roi_size,predictor,output_dir,batch_size)"
   ]
  },
  {
   "cell_type": "markdown",
   "id": "dbbae904",
   "metadata": {},
   "source": [
    "https://github.com/albumentations-team/albumentations_examples\n",
    "\n",
    "https://medium.com/@ArjunThoughts/albumentations-package-is-a-fast-and-%EF%AC%82exible-library-for-image-augmentations-with-many-various-207422f55a24"
   ]
  },
  {
   "cell_type": "markdown",
   "id": "3ed764ef",
   "metadata": {},
   "source": [
    "Si l'on souhaite prédire toutes les images dans la liste des images."
   ]
  },
  {
   "cell_type": "code",
   "execution_count": 37,
   "id": "51de04e1",
   "metadata": {},
   "outputs": [],
   "source": [
    "#for img in list_img:\n",
    "#    path_image = os.path.join(test_dir,img)\n",
    "#    inference_roi(path_image,roi_size,predictor,output_dir)"
   ]
  },
  {
   "cell_type": "code",
   "execution_count": null,
   "id": "dcbcee18",
   "metadata": {},
   "outputs": [],
   "source": []
  }
 ],
 "metadata": {
  "kernelspec": {
   "display_name": "Python 3",
   "language": "python",
   "name": "python3"
  },
  "language_info": {
   "codemirror_mode": {
    "name": "ipython",
    "version": 3
   },
   "file_extension": ".py",
   "mimetype": "text/x-python",
   "name": "python",
   "nbconvert_exporter": "python",
   "pygments_lexer": "ipython3",
   "version": "3.8.10"
  }
 },
 "nbformat": 4,
 "nbformat_minor": 5
}
